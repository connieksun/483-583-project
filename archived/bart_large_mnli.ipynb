{
 "cells": [
  {
   "cell_type": "code",
   "execution_count": 1,
   "metadata": {},
   "outputs": [
    {
     "data": {
      "application/vnd.jupyter.widget-view+json": {
       "model_id": "78adf1a999dc442c9a1efc775a3534b9",
       "version_major": 2,
       "version_minor": 0
      },
      "text/plain": [
       "Downloading (…)lve/main/config.json:   0%|          | 0.00/1.15k [00:00<?, ?B/s]"
      ]
     },
     "metadata": {},
     "output_type": "display_data"
    },
    {
     "data": {
      "application/vnd.jupyter.widget-view+json": {
       "model_id": "e629e82596694d808b5aaef5464aef75",
       "version_major": 2,
       "version_minor": 0
      },
      "text/plain": [
       "Downloading pytorch_model.bin:   0%|          | 0.00/1.63G [00:00<?, ?B/s]"
      ]
     },
     "metadata": {},
     "output_type": "display_data"
    },
    {
     "data": {
      "application/vnd.jupyter.widget-view+json": {
       "model_id": "9adfa2df7cea4f9890834e6aa3e217ee",
       "version_major": 2,
       "version_minor": 0
      },
      "text/plain": [
       "Downloading (…)okenizer_config.json:   0%|          | 0.00/26.0 [00:00<?, ?B/s]"
      ]
     },
     "metadata": {},
     "output_type": "display_data"
    },
    {
     "data": {
      "application/vnd.jupyter.widget-view+json": {
       "model_id": "bee1433951324310a896a0d8cc8dc48a",
       "version_major": 2,
       "version_minor": 0
      },
      "text/plain": [
       "Downloading (…)olve/main/vocab.json:   0%|          | 0.00/899k [00:00<?, ?B/s]"
      ]
     },
     "metadata": {},
     "output_type": "display_data"
    },
    {
     "data": {
      "application/vnd.jupyter.widget-view+json": {
       "model_id": "029a5b6ad94144a68384d24e8ffb79fa",
       "version_major": 2,
       "version_minor": 0
      },
      "text/plain": [
       "Downloading (…)olve/main/merges.txt:   0%|          | 0.00/456k [00:00<?, ?B/s]"
      ]
     },
     "metadata": {},
     "output_type": "display_data"
    },
    {
     "data": {
      "application/vnd.jupyter.widget-view+json": {
       "model_id": "d1f7736d3b384642aba51daaa833cf39",
       "version_major": 2,
       "version_minor": 0
      },
      "text/plain": [
       "Downloading (…)/main/tokenizer.json:   0%|          | 0.00/1.36M [00:00<?, ?B/s]"
      ]
     },
     "metadata": {},
     "output_type": "display_data"
    }
   ],
   "source": [
    "from transformers import pipeline\n",
    "classifier = pipeline(\"zero-shot-classification\",\n",
    "                      model=\"facebook/bart-large-mnli\")"
   ]
  },
  {
   "cell_type": "code",
   "execution_count": 3,
   "metadata": {},
   "outputs": [
    {
     "data": {
      "text/html": [
       "<div>\n",
       "<style scoped>\n",
       "    .dataframe tbody tr th:only-of-type {\n",
       "        vertical-align: middle;\n",
       "    }\n",
       "\n",
       "    .dataframe tbody tr th {\n",
       "        vertical-align: top;\n",
       "    }\n",
       "\n",
       "    .dataframe thead th {\n",
       "        text-align: right;\n",
       "    }\n",
       "</style>\n",
       "<table border=\"1\" class=\"dataframe\">\n",
       "  <thead>\n",
       "    <tr style=\"text-align: right;\">\n",
       "      <th></th>\n",
       "      <th>text</th>\n",
       "      <th>sentiment</th>\n",
       "      <th>label</th>\n",
       "    </tr>\n",
       "  </thead>\n",
       "  <tbody>\n",
       "    <tr>\n",
       "      <th>0</th>\n",
       "      <td>Also use of chemicals and machinery on their p...</td>\n",
       "      <td>NEGATIVE, NEGATIVE</td>\n",
       "      <td>1</td>\n",
       "    </tr>\n",
       "    <tr>\n",
       "      <th>1</th>\n",
       "      <td>Sources believe that twenty-five to 30 percent...</td>\n",
       "      <td>UNDETERMINED</td>\n",
       "      <td>0</td>\n",
       "    </tr>\n",
       "    <tr>\n",
       "      <th>2</th>\n",
       "      <td>Although these government-led initiatives are ...</td>\n",
       "      <td>UNDETERMINED</td>\n",
       "      <td>0</td>\n",
       "    </tr>\n",
       "    <tr>\n",
       "      <th>3</th>\n",
       "      <td>In other projects of this kind, it is not alwa...</td>\n",
       "      <td>POSITIVE</td>\n",
       "      <td>2</td>\n",
       "    </tr>\n",
       "    <tr>\n",
       "      <th>4</th>\n",
       "      <td>Many African policy makers evidently believe t...</td>\n",
       "      <td>POSITIVE</td>\n",
       "      <td>2</td>\n",
       "    </tr>\n",
       "    <tr>\n",
       "      <th>...</th>\n",
       "      <td>...</td>\n",
       "      <td>...</td>\n",
       "      <td>...</td>\n",
       "    </tr>\n",
       "    <tr>\n",
       "      <th>358</th>\n",
       "      <td>Similar initiatives have and can be initiated ...</td>\n",
       "      <td>POSITIVE</td>\n",
       "      <td>2</td>\n",
       "    </tr>\n",
       "    <tr>\n",
       "      <th>359</th>\n",
       "      <td>Collective sales account for an average of 64 ...</td>\n",
       "      <td>UNDETERMINED</td>\n",
       "      <td>0</td>\n",
       "    </tr>\n",
       "    <tr>\n",
       "      <th>360</th>\n",
       "      <td>Individual sales account for slightly lower vo...</td>\n",
       "      <td>UNDETERMINED, UNDETERMINED, UNDETERMINED</td>\n",
       "      <td>0</td>\n",
       "    </tr>\n",
       "    <tr>\n",
       "      <th>361</th>\n",
       "      <td>Modernization of the rice value chain The VC t...</td>\n",
       "      <td>UNDETERMINED</td>\n",
       "      <td>0</td>\n",
       "    </tr>\n",
       "    <tr>\n",
       "      <th>362</th>\n",
       "      <td>Small-scale processors use mills to husk the r...</td>\n",
       "      <td>UNDETERMINED</td>\n",
       "      <td>0</td>\n",
       "    </tr>\n",
       "  </tbody>\n",
       "</table>\n",
       "<p>363 rows × 3 columns</p>\n",
       "</div>"
      ],
      "text/plain": [
       "                                                  text  \\\n",
       "0    Also use of chemicals and machinery on their p...   \n",
       "1    Sources believe that twenty-five to 30 percent...   \n",
       "2    Although these government-led initiatives are ...   \n",
       "3    In other projects of this kind, it is not alwa...   \n",
       "4    Many African policy makers evidently believe t...   \n",
       "..                                                 ...   \n",
       "358  Similar initiatives have and can be initiated ...   \n",
       "359  Collective sales account for an average of 64 ...   \n",
       "360  Individual sales account for slightly lower vo...   \n",
       "361  Modernization of the rice value chain The VC t...   \n",
       "362  Small-scale processors use mills to husk the r...   \n",
       "\n",
       "                                    sentiment  label  \n",
       "0                          NEGATIVE, NEGATIVE      1  \n",
       "1                                UNDETERMINED      0  \n",
       "2                                UNDETERMINED      0  \n",
       "3                                    POSITIVE      2  \n",
       "4                                    POSITIVE      2  \n",
       "..                                        ...    ...  \n",
       "358                                  POSITIVE      2  \n",
       "359                              UNDETERMINED      0  \n",
       "360  UNDETERMINED, UNDETERMINED, UNDETERMINED      0  \n",
       "361                              UNDETERMINED      0  \n",
       "362                              UNDETERMINED      0  \n",
       "\n",
       "[363 rows x 3 columns]"
      ]
     },
     "execution_count": 3,
     "metadata": {},
     "output_type": "execute_result"
    }
   ],
   "source": [
    "import pandas as pd\n",
    "labels = open('data/classes.txt').read().splitlines()\n",
    "all_df = pd.read_csv(\"data/belief_benchmark.csv\")\n",
    "all_df"
   ]
  },
  {
   "cell_type": "code",
   "execution_count": 27,
   "metadata": {},
   "outputs": [],
   "source": [
    "import numpy as np\n",
    "\n",
    "labels = [\"neither\", \"negative\", \"positive\", \"both\"]\n",
    "pred_i_list = []\n",
    "for i,row in all_df.iterrows():\n",
    "    pred = classifier(row[\"text\"], candidate_labels=labels)\n",
    "    pred_i = labels.index(pred[\"labels\"][0])\n",
    "    pred_i_list.append(pred_i)"
   ]
  },
  {
   "cell_type": "code",
   "execution_count": 28,
   "metadata": {},
   "outputs": [
    {
     "name": "stdout",
     "output_type": "stream",
     "text": [
      "              precision    recall  f1-score   support\n",
      "\n",
      "     neither       0.20      0.01      0.02       122\n",
      "    negative       0.53      0.62      0.57        65\n",
      "    positive       0.73      0.35      0.48       147\n",
      "        both       0.05      0.38      0.09        29\n",
      "\n",
      "    accuracy                           0.29       363\n",
      "   macro avg       0.38      0.34      0.29       363\n",
      "weighted avg       0.46      0.29      0.31       363\n",
      "\n"
     ]
    }
   ],
   "source": [
    "from sklearn.metrics import classification_report\n",
    "\n",
    "y_true = all_df[\"label\"]\n",
    "y_pred = pred_i_list\n",
    "print(classification_report(y_true, y_pred, target_names=labels))"
   ]
  },
  {
   "cell_type": "code",
   "execution_count": 31,
   "metadata": {},
   "outputs": [
    {
     "data": {
      "image/png": "[encoded data removed]",
      "text/plain": [
       "<Figure size 432x288 with 2 Axes>"
      ]
     },
     "metadata": {
      "needs_background": "light"
     },
     "output_type": "display_data"
    }
   ],
   "source": [
    "from sklearn.metrics import confusion_matrix, ConfusionMatrixDisplay\n",
    "import matplotlib.pyplot as plt\n",
    "cm = confusion_matrix(y_true, y_pred)\n",
    "disp = ConfusionMatrixDisplay(confusion_matrix=cm,\n",
    "                              display_labels=labels)\n",
    "disp.plot()\n",
    "plt.show()"
   ]
  },
  {
   "cell_type": "code",
   "execution_count": 33,
   "metadata": {},
   "outputs": [
    {
     "name": "stdout",
     "output_type": "stream",
     "text": [
      "0    1\n",
      "1    0\n",
      "2    0\n",
      "3    2\n",
      "4    2\n",
      "5    3\n",
      "6    1\n",
      "7    0\n",
      "8    3\n",
      "9    2\n",
      "Name: label, dtype: int64\n",
      "[1, 3, 3, 2, 3, 3, 3, 3, 1, 3]\n",
      "0      1\n",
      "1      0\n",
      "2      0\n",
      "3      2\n",
      "4      2\n",
      "      ..\n",
      "358    2\n",
      "359    0\n",
      "360    0\n",
      "361    0\n",
      "362    0\n",
      "Name: label, Length: 363, dtype: int64\n"
     ]
    }
   ],
   "source": [
    "# print(y_true[:10])\n",
    "# print(y_pred[:10])\n",
    "# import pickle\n",
    "# pickle.dump(y_true, open(\"data/y_true\", \"wb\"))\n",
    "# pickle.dump(y_pred, open(\"data/y_pred\", \"wb\"))\n",
    "\n",
    "\n",
    "# load saved lists\n",
    "y_true_loaded = pickle.load(open(\"data/y_true\", \"rb\"))\n",
    "y_pred_loaded = pickle.load(open(\"data/y_pred\", \"rb\"))"
   ]
  }
 ],
 "metadata": {
  "kernelspec": {
   "display_name": "tf-gpu",
   "language": "python",
   "name": "python3"
  },
  "language_info": {
   "codemirror_mode": {
    "name": "ipython",
    "version": 3
   },
   "file_extension": ".py",
   "mimetype": "text/x-python",
   "name": "python",
   "nbconvert_exporter": "python",
   "pygments_lexer": "ipython3",
   "version": "3.8.12"
  },
  "orig_nbformat": 4
 },
 "nbformat": 4,
 "nbformat_minor": 2
}
