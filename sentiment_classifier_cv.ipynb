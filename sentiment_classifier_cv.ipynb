{
 "cells": [
  {
   "cell_type": "code",
   "execution_count": 1,
   "metadata": {
    "scrolled": true
   },
   "outputs": [],
   "source": [
    "from torch import nn\n",
    "from transformers.modeling_outputs import SequenceClassifierOutput\n",
    "from transformers.models.bert.modeling_bert import BertModel, BertPreTrainedModel"
   ]
  },
  {
   "cell_type": "code",
   "execution_count": 2,
   "metadata": {
    "scrolled": true
   },
   "outputs": [],
   "source": [
    "import torch\n",
    "torch.cuda.empty_cache()"
   ]
  },
  {
   "cell_type": "code",
   "execution_count": 3,
   "metadata": {},
   "outputs": [],
   "source": [
    "import sklearn\n",
    "import pandas as pd\n",
    "import numpy as np"
   ]
  },
  {
   "cell_type": "code",
   "execution_count": 4,
   "metadata": {},
   "outputs": [],
   "source": [
    "from transformers import AutoTokenizer\n",
    "from datasets import Dataset, DatasetDict\n",
    "from transformers import AutoModelForSequenceClassification, TrainingArguments, Trainer\n",
    "from transformers import AutoConfig"
   ]
  },
  {
   "cell_type": "code",
   "execution_count": 5,
   "metadata": {},
   "outputs": [],
   "source": [
    "import os\n",
    "from os import listdir\n",
    "import sys\n",
    "import json\n",
    "from os import path"
   ]
  },
  {
   "cell_type": "code",
   "execution_count": 6,
   "metadata": {},
   "outputs": [],
   "source": [
    "from sklearn.model_selection import train_test_split\n",
    "from sklearn.metrics import accuracy_score\n",
    "from sklearn import metrics"
   ]
  },
  {
   "cell_type": "code",
   "execution_count": 7,
   "metadata": {},
   "outputs": [],
   "source": [
    "from sklearn.model_selection import KFold"
   ]
  },
  {
   "cell_type": "code",
   "execution_count": 8,
   "metadata": {},
   "outputs": [],
   "source": [
    "models_dir = \"models/bert-k-fold\""
   ]
  },
  {
   "cell_type": "code",
   "execution_count": 9,
   "metadata": {},
   "outputs": [],
   "source": [
    "import pandas as pd\n",
    "labels = open('data/classes.txt').read().splitlines()\n",
    "df = pd.read_csv(\"data/belief_benchmark_all_train.csv\")"
   ]
  },
  {
   "cell_type": "code",
   "execution_count": 10,
   "metadata": {},
   "outputs": [
    {
     "data": {
      "text/html": [
       "<div>\n",
       "<style scoped>\n",
       "    .dataframe tbody tr th:only-of-type {\n",
       "        vertical-align: middle;\n",
       "    }\n",
       "\n",
       "    .dataframe tbody tr th {\n",
       "        vertical-align: top;\n",
       "    }\n",
       "\n",
       "    .dataframe thead th {\n",
       "        text-align: right;\n",
       "    }\n",
       "</style>\n",
       "<table border=\"1\" class=\"dataframe\">\n",
       "  <thead>\n",
       "    <tr style=\"text-align: right;\">\n",
       "      <th></th>\n",
       "      <th>text</th>\n",
       "      <th>sentiment</th>\n",
       "      <th>label</th>\n",
       "    </tr>\n",
       "  </thead>\n",
       "  <tbody>\n",
       "    <tr>\n",
       "      <th>0</th>\n",
       "      <td>Private-sector actors expect their business pa...</td>\n",
       "      <td>NEGATIVE</td>\n",
       "      <td>1</td>\n",
       "    </tr>\n",
       "    <tr>\n",
       "      <th>1</th>\n",
       "      <td>Lack of product uniformity is perceived by con...</td>\n",
       "      <td>NEGATIVE, NEGATIVE, NEGATIVE, NEGATIVE</td>\n",
       "      <td>1</td>\n",
       "    </tr>\n",
       "    <tr>\n",
       "      <th>2</th>\n",
       "      <td>However , to the extent that the empirical str...</td>\n",
       "      <td>POSITIVE</td>\n",
       "      <td>2</td>\n",
       "    </tr>\n",
       "    <tr>\n",
       "      <th>3</th>\n",
       "      <td>Firms prefer to contract with producers with w...</td>\n",
       "      <td>POSITIVE</td>\n",
       "      <td>2</td>\n",
       "    </tr>\n",
       "    <tr>\n",
       "      <th>4</th>\n",
       "      <td>Farmers attempted to use alternate wetting and...</td>\n",
       "      <td>POSITIVE</td>\n",
       "      <td>2</td>\n",
       "    </tr>\n",
       "  </tbody>\n",
       "</table>\n",
       "</div>"
      ],
      "text/plain": [
       "                                                text  \\\n",
       "0  Private-sector actors expect their business pa...   \n",
       "1  Lack of product uniformity is perceived by con...   \n",
       "2  However , to the extent that the empirical str...   \n",
       "3  Firms prefer to contract with producers with w...   \n",
       "4  Farmers attempted to use alternate wetting and...   \n",
       "\n",
       "                                sentiment  label  \n",
       "0                                NEGATIVE      1  \n",
       "1  NEGATIVE, NEGATIVE, NEGATIVE, NEGATIVE      1  \n",
       "2                                POSITIVE      2  \n",
       "3                                POSITIVE      2  \n",
       "4                                POSITIVE      2  "
      ]
     },
     "execution_count": 10,
     "metadata": {},
     "output_type": "execute_result"
    }
   ],
   "source": [
    "df.head()"
   ]
  },
  {
   "cell_type": "code",
   "execution_count": 11,
   "metadata": {},
   "outputs": [],
   "source": [
    "transformer_name = \"bert-base-cased\"\n",
    "tokenizer = AutoTokenizer.from_pretrained(transformer_name)\n",
    "# NOTE: for cross validation, the model should be initialized inside the cv loop"
   ]
  },
  {
   "cell_type": "code",
   "execution_count": 12,
   "metadata": {},
   "outputs": [],
   "source": [
    "def tokenize(batch):\n",
    "    return tokenizer(batch['text'], truncation=True)"
   ]
  },
  {
   "cell_type": "code",
   "execution_count": 13,
   "metadata": {},
   "outputs": [],
   "source": [
    "def compute_metrics(eval_pred):\n",
    "    y_true = eval_pred.label_ids\n",
    "    y_pred = np.argmax(eval_pred.predictions, axis=-1)\n",
    "    report = metrics.classification_report(y_true, y_pred)\n",
    "    print(\"report: \\n\", report)\n",
    "    \n",
    "    print(\"rep type: \", type(report))\n",
    "    \n",
    "\n",
    "    return {'f1':metrics.f1_score(y_true, y_pred, average=\"macro\")}"
   ]
  },
  {
   "cell_type": "code",
   "execution_count": 14,
   "metadata": {},
   "outputs": [],
   "source": [
    "# Note: not used right now, but can be\n",
    "# https://github.com/huggingface/transformers/blob/65659a29cf5a079842e61a63d57fa24474288998/src/transformers/models/bert/modeling_bert.py#L1486\n",
    "\n",
    "class BertForSequenceClassification(BertPreTrainedModel):\n",
    "    def __init__(self, config):\n",
    "        super().__init__(config)\n",
    "        self.num_labels = config.num_labels\n",
    "        self.bert = BertModel(config)\n",
    "        self.dropout = nn.Dropout(config.hidden_dropout_prob)\n",
    "        self.classifier = nn.Linear(config.hidden_size, config.num_labels)\n",
    "        self.init_weights()\n",
    "        \n",
    "    def forward(self, input_ids=None, attention_mask=None, token_type_ids=None, labels=None, **kwargs):\n",
    "        outputs = self.bert(\n",
    "            input_ids,\n",
    "            attention_mask=attention_mask,\n",
    "            token_type_ids=token_type_ids,\n",
    "            **kwargs,\n",
    "        )\n",
    "        cls_outputs = outputs.last_hidden_state[:, 0, :]\n",
    "        cls_outputs = self.dropout(cls_outputs)\n",
    "        logits = self.classifier(cls_outputs)\n",
    "        loss = None\n",
    "        if labels is not None:\n",
    "            loss_fn = nn.CrossEntropyLoss()\n",
    "            loss = loss_fn(logits, labels)\n",
    "        return SequenceClassifierOutput(\n",
    "            loss=loss,\n",
    "            logits=logits,\n",
    "            hidden_states=outputs.hidden_states,\n",
    "            attentions=outputs.attentions,\n",
    "        )\n"
   ]
  },
  {
   "cell_type": "code",
   "execution_count": 15,
   "metadata": {},
   "outputs": [],
   "source": [
    "# this is for creating cross-validation folds\n",
    "def get_sample_based_on_idx(data, indeces):\n",
    "    return data.iloc[indeces, :].reset_index()"
   ]
  },
  {
   "cell_type": "code",
   "execution_count": 16,
   "metadata": {},
   "outputs": [],
   "source": [
    "# defining hyperparams\n",
    "num_epochs = 8\n",
    "batch_size = 6\n",
    "weight_decay = 0.01\n",
    "print(f\"num_epochs: {num_epochs}, batch_size: {batch_size}, weight_decay: {weight_decay}\")\n",
    "training_args = TrainingArguments(\n",
    "    output_dir=\"./results_triggerless\", # is this location in the tmp dir? \n",
    "    log_level='error',\n",
    "    num_train_epochs=num_epochs,\n",
    "    per_device_train_batch_size=batch_size,\n",
    "    per_device_eval_batch_size=batch_size,\n",
    "    evaluation_strategy='epoch',\n",
    "    save_strategy='epoch',\n",
    "    weight_decay=weight_decay,\n",
    "    load_best_model_at_end=True, # this is supposed to make sure the best model is loaded by the trainer at the end\n",
    "    metric_for_best_model=\"eval_f1\" \n",
    "    )"
   ]
  },
  {
   "cell_type": "code",
   "execution_count": 17,
   "metadata": {},
   "outputs": [],
   "source": [
    "# specify what percent of the all_train data should be used in cross-fold validation \n",
    "# we can use this to create a learning curve, e.g., performance with 50, 80, 90% of data\n",
    "\n",
    "from sklearn.model_selection import train_test_split\n",
    "train_size = 0.8\n",
    "\n",
    "if train_size < 1.0:\n",
    "    df, _ = train_test_split(df, test_size=1.0-train_size, random_state=1, stratify=df[['label']])\n",
    "print(f\"train_size: {train_size} (total samples: {len(df)})\")"
   ]
  },
  {
   "cell_type": "code",
   "execution_count": 18,
   "metadata": {},
   "outputs": [
    {
     "name": "stdout",
     "output_type": "stream",
     "text": [
      "FOLD:  0\n",
      "LEN DF:  138\n",
      "done train df\n",
      "done eval df\n",
      "LEN EVAL:  35\n"
     ]
    },
    {
     "data": {
      "application/vnd.jupyter.widget-view+json": {
       "model_id": "74f153ed7f93408fa85cda4d37fa6c17",
       "version_major": 2,
       "version_minor": 0
      },
      "text/plain": [
       "Map:   0%|          | 0/138 [00:00<?, ? examples/s]"
      ]
     },
     "metadata": {},
     "output_type": "display_data"
    },
    {
     "data": {
      "application/vnd.jupyter.widget-view+json": {
       "model_id": "a191359c03f8464ea5ccf022bdb8c637",
       "version_major": 2,
       "version_minor": 0
      },
      "text/plain": [
       "Map:   0%|          | 0/35 [00:00<?, ? examples/s]"
      ]
     },
     "metadata": {},
     "output_type": "display_data"
    },
    {
     "name": "stderr",
     "output_type": "stream",
     "text": [
      "Some weights of the model checkpoint at bert-base-cased were not used when initializing BertForSequenceClassification: ['cls.predictions.transform.LayerNorm.weight', 'cls.predictions.bias', 'cls.predictions.decoder.weight', 'cls.seq_relationship.weight', 'cls.predictions.transform.LayerNorm.bias', 'cls.seq_relationship.bias', 'cls.predictions.transform.dense.weight', 'cls.predictions.transform.dense.bias']\n",
      "- This IS expected if you are initializing BertForSequenceClassification from the checkpoint of a model trained on another task or with another architecture (e.g. initializing a BertForSequenceClassification model from a BertForPreTraining model).\n",
      "- This IS NOT expected if you are initializing BertForSequenceClassification from the checkpoint of a model that you expect to be exactly identical (initializing a BertForSequenceClassification model from a BertForSequenceClassification model).\n",
      "Some weights of BertForSequenceClassification were not initialized from the model checkpoint at bert-base-cased and are newly initialized: ['classifier.weight', 'classifier.bias']\n",
      "You should probably TRAIN this model on a down-stream task to be able to use it for predictions and inference.\n",
      "c:\\Users\\conni\\anaconda3\\envs\\tf-gpu\\lib\\site-packages\\transformers\\optimization.py:391: FutureWarning: This implementation of AdamW is deprecated and will be removed in a future version. Use the PyTorch implementation torch.optim.AdamW instead, or set `no_deprecation_warning=True` to disable this warning\n",
      "  warnings.warn(\n"
     ]
    },
    {
     "data": {
      "application/vnd.jupyter.widget-view+json": {
       "model_id": "9d141073e1c648379e47bd038435dcae",
       "version_major": 2,
       "version_minor": 0
      },
      "text/plain": [
       "  0%|          | 0/184 [00:00<?, ?it/s]"
      ]
     },
     "metadata": {},
     "output_type": "display_data"
    },
    {
     "data": {
      "application/vnd.jupyter.widget-view+json": {
       "model_id": "b79d54bcc73d4bbbb8133b52a04857fb",
       "version_major": 2,
       "version_minor": 0
      },
      "text/plain": [
       "  0%|          | 0/6 [00:00<?, ?it/s]"
      ]
     },
     "metadata": {},
     "output_type": "display_data"
    },
    {
     "name": "stderr",
     "output_type": "stream",
     "text": [
      "c:\\Users\\conni\\anaconda3\\envs\\tf-gpu\\lib\\site-packages\\sklearn\\metrics\\_classification.py:1248: UndefinedMetricWarning: Precision and F-score are ill-defined and being set to 0.0 in labels with no predicted samples. Use `zero_division` parameter to control this behavior.\n",
      "  _warn_prf(average, modifier, msg_start, len(result))\n",
      "c:\\Users\\conni\\anaconda3\\envs\\tf-gpu\\lib\\site-packages\\sklearn\\metrics\\_classification.py:1248: UndefinedMetricWarning: Precision and F-score are ill-defined and being set to 0.0 in labels with no predicted samples. Use `zero_division` parameter to control this behavior.\n",
      "  _warn_prf(average, modifier, msg_start, len(result))\n",
      "c:\\Users\\conni\\anaconda3\\envs\\tf-gpu\\lib\\site-packages\\sklearn\\metrics\\_classification.py:1248: UndefinedMetricWarning: Precision and F-score are ill-defined and being set to 0.0 in labels with no predicted samples. Use `zero_division` parameter to control this behavior.\n",
      "  _warn_prf(average, modifier, msg_start, len(result))\n"
     ]
    },
    {
     "name": "stdout",
     "output_type": "stream",
     "text": [
      "report: \n",
      "               precision    recall  f1-score   support\n",
      "\n",
      "           0       0.34      1.00      0.51        12\n",
      "           1       0.00      0.00      0.00         9\n",
      "           2       0.00      0.00      0.00        14\n",
      "\n",
      "    accuracy                           0.34        35\n",
      "   macro avg       0.11      0.33      0.17        35\n",
      "weighted avg       0.12      0.34      0.18        35\n",
      "\n",
      "rep type:  <class 'str'>\n",
      "{'eval_loss': 1.2403892278671265, 'eval_f1': 0.1702127659574468, 'eval_runtime': 0.2612, 'eval_samples_per_second': 133.999, 'eval_steps_per_second': 22.971, 'epoch': 1.0}\n"
     ]
    },
    {
     "data": {
      "application/vnd.jupyter.widget-view+json": {
       "model_id": "7e7e0c8f99e44e388a051ea64ffa2e00",
       "version_major": 2,
       "version_minor": 0
      },
      "text/plain": [
       "  0%|          | 0/6 [00:00<?, ?it/s]"
      ]
     },
     "metadata": {},
     "output_type": "display_data"
    },
    {
     "name": "stderr",
     "output_type": "stream",
     "text": [
      "c:\\Users\\conni\\anaconda3\\envs\\tf-gpu\\lib\\site-packages\\sklearn\\metrics\\_classification.py:1248: UndefinedMetricWarning: Precision and F-score are ill-defined and being set to 0.0 in labels with no predicted samples. Use `zero_division` parameter to control this behavior.\n",
      "  _warn_prf(average, modifier, msg_start, len(result))\n",
      "c:\\Users\\conni\\anaconda3\\envs\\tf-gpu\\lib\\site-packages\\sklearn\\metrics\\_classification.py:1248: UndefinedMetricWarning: Precision and F-score are ill-defined and being set to 0.0 in labels with no predicted samples. Use `zero_division` parameter to control this behavior.\n",
      "  _warn_prf(average, modifier, msg_start, len(result))\n",
      "c:\\Users\\conni\\anaconda3\\envs\\tf-gpu\\lib\\site-packages\\sklearn\\metrics\\_classification.py:1248: UndefinedMetricWarning: Precision and F-score are ill-defined and being set to 0.0 in labels with no predicted samples. Use `zero_division` parameter to control this behavior.\n",
      "  _warn_prf(average, modifier, msg_start, len(result))\n"
     ]
    },
    {
     "name": "stdout",
     "output_type": "stream",
     "text": [
      "report: \n",
      "               precision    recall  f1-score   support\n",
      "\n",
      "           0       0.00      0.00      0.00        12\n",
      "           1       0.00      0.00      0.00         9\n",
      "           2       0.40      1.00      0.57        14\n",
      "\n",
      "    accuracy                           0.40        35\n",
      "   macro avg       0.13      0.33      0.19        35\n",
      "weighted avg       0.16      0.40      0.23        35\n",
      "\n",
      "rep type:  <class 'str'>\n",
      "{'eval_loss': 1.2753573656082153, 'eval_f1': 0.1904761904761905, 'eval_runtime': 0.2511, 'eval_samples_per_second': 139.378, 'eval_steps_per_second': 23.893, 'epoch': 2.0}\n"
     ]
    },
    {
     "data": {
      "application/vnd.jupyter.widget-view+json": {
       "model_id": "9305bc3d2fde4d6fac98fe411135c945",
       "version_major": 2,
       "version_minor": 0
      },
      "text/plain": [
       "  0%|          | 0/6 [00:00<?, ?it/s]"
      ]
     },
     "metadata": {},
     "output_type": "display_data"
    },
    {
     "name": "stderr",
     "output_type": "stream",
     "text": [
      "c:\\Users\\conni\\anaconda3\\envs\\tf-gpu\\lib\\site-packages\\sklearn\\metrics\\_classification.py:1248: UndefinedMetricWarning: Precision and F-score are ill-defined and being set to 0.0 in labels with no predicted samples. Use `zero_division` parameter to control this behavior.\n",
      "  _warn_prf(average, modifier, msg_start, len(result))\n",
      "c:\\Users\\conni\\anaconda3\\envs\\tf-gpu\\lib\\site-packages\\sklearn\\metrics\\_classification.py:1248: UndefinedMetricWarning: Precision and F-score are ill-defined and being set to 0.0 in labels with no predicted samples. Use `zero_division` parameter to control this behavior.\n",
      "  _warn_prf(average, modifier, msg_start, len(result))\n",
      "c:\\Users\\conni\\anaconda3\\envs\\tf-gpu\\lib\\site-packages\\sklearn\\metrics\\_classification.py:1248: UndefinedMetricWarning: Precision and F-score are ill-defined and being set to 0.0 in labels with no predicted samples. Use `zero_division` parameter to control this behavior.\n",
      "  _warn_prf(average, modifier, msg_start, len(result))\n"
     ]
    },
    {
     "name": "stdout",
     "output_type": "stream",
     "text": [
      "report: \n",
      "               precision    recall  f1-score   support\n",
      "\n",
      "           0       0.00      0.00      0.00        12\n",
      "           1       0.00      0.00      0.00         9\n",
      "           2       0.40      1.00      0.57        14\n",
      "\n",
      "    accuracy                           0.40        35\n",
      "   macro avg       0.13      0.33      0.19        35\n",
      "weighted avg       0.16      0.40      0.23        35\n",
      "\n",
      "rep type:  <class 'str'>\n",
      "{'eval_loss': 1.2630975246429443, 'eval_f1': 0.1904761904761905, 'eval_runtime': 0.2426, 'eval_samples_per_second': 144.297, 'eval_steps_per_second': 24.737, 'epoch': 3.0}\n"
     ]
    },
    {
     "data": {
      "application/vnd.jupyter.widget-view+json": {
       "model_id": "a2c06116cbf4423da5dc908c7fb1b9dd",
       "version_major": 2,
       "version_minor": 0
      },
      "text/plain": [
       "  0%|          | 0/6 [00:00<?, ?it/s]"
      ]
     },
     "metadata": {},
     "output_type": "display_data"
    },
    {
     "name": "stderr",
     "output_type": "stream",
     "text": [
      "c:\\Users\\conni\\anaconda3\\envs\\tf-gpu\\lib\\site-packages\\sklearn\\metrics\\_classification.py:1248: UndefinedMetricWarning: Precision and F-score are ill-defined and being set to 0.0 in labels with no predicted samples. Use `zero_division` parameter to control this behavior.\n",
      "  _warn_prf(average, modifier, msg_start, len(result))\n",
      "c:\\Users\\conni\\anaconda3\\envs\\tf-gpu\\lib\\site-packages\\sklearn\\metrics\\_classification.py:1248: UndefinedMetricWarning: Precision and F-score are ill-defined and being set to 0.0 in labels with no predicted samples. Use `zero_division` parameter to control this behavior.\n",
      "  _warn_prf(average, modifier, msg_start, len(result))\n",
      "c:\\Users\\conni\\anaconda3\\envs\\tf-gpu\\lib\\site-packages\\sklearn\\metrics\\_classification.py:1248: UndefinedMetricWarning: Precision and F-score are ill-defined and being set to 0.0 in labels with no predicted samples. Use `zero_division` parameter to control this behavior.\n",
      "  _warn_prf(average, modifier, msg_start, len(result))\n"
     ]
    },
    {
     "name": "stdout",
     "output_type": "stream",
     "text": [
      "report: \n",
      "               precision    recall  f1-score   support\n",
      "\n",
      "           0       0.34      0.83      0.49        12\n",
      "           1       0.00      0.00      0.00         9\n",
      "           2       0.00      0.00      0.00        14\n",
      "\n",
      "    accuracy                           0.29        35\n",
      "   macro avg       0.11      0.28      0.16        35\n",
      "weighted avg       0.12      0.29      0.17        35\n",
      "\n",
      "rep type:  <class 'str'>\n",
      "{'eval_loss': 1.2740401029586792, 'eval_f1': 0.1626016260162602, 'eval_runtime': 0.2608, 'eval_samples_per_second': 134.184, 'eval_steps_per_second': 23.003, 'epoch': 4.0}\n"
     ]
    },
    {
     "data": {
      "application/vnd.jupyter.widget-view+json": {
       "model_id": "ae39238531e64c22b27e1bb3adcc8844",
       "version_major": 2,
       "version_minor": 0
      },
      "text/plain": [
       "  0%|          | 0/6 [00:00<?, ?it/s]"
      ]
     },
     "metadata": {},
     "output_type": "display_data"
    },
    {
     "name": "stderr",
     "output_type": "stream",
     "text": [
      "c:\\Users\\conni\\anaconda3\\envs\\tf-gpu\\lib\\site-packages\\sklearn\\metrics\\_classification.py:1248: UndefinedMetricWarning: Precision and F-score are ill-defined and being set to 0.0 in labels with no predicted samples. Use `zero_division` parameter to control this behavior.\n",
      "  _warn_prf(average, modifier, msg_start, len(result))\n",
      "c:\\Users\\conni\\anaconda3\\envs\\tf-gpu\\lib\\site-packages\\sklearn\\metrics\\_classification.py:1248: UndefinedMetricWarning: Precision and F-score are ill-defined and being set to 0.0 in labels with no predicted samples. Use `zero_division` parameter to control this behavior.\n",
      "  _warn_prf(average, modifier, msg_start, len(result))\n",
      "c:\\Users\\conni\\anaconda3\\envs\\tf-gpu\\lib\\site-packages\\sklearn\\metrics\\_classification.py:1248: UndefinedMetricWarning: Precision and F-score are ill-defined and being set to 0.0 in labels with no predicted samples. Use `zero_division` parameter to control this behavior.\n",
      "  _warn_prf(average, modifier, msg_start, len(result))\n"
     ]
    },
    {
     "name": "stdout",
     "output_type": "stream",
     "text": [
      "report: \n",
      "               precision    recall  f1-score   support\n",
      "\n",
      "           0       0.00      0.00      0.00        12\n",
      "           1       0.00      0.00      0.00         9\n",
      "           2       0.40      1.00      0.57        14\n",
      "\n",
      "    accuracy                           0.40        35\n",
      "   macro avg       0.13      0.33      0.19        35\n",
      "weighted avg       0.16      0.40      0.23        35\n",
      "\n",
      "rep type:  <class 'str'>\n",
      "{'eval_loss': 1.4980642795562744, 'eval_f1': 0.1904761904761905, 'eval_runtime': 0.3777, 'eval_samples_per_second': 92.678, 'eval_steps_per_second': 15.888, 'epoch': 5.0}\n"
     ]
    },
    {
     "data": {
      "application/vnd.jupyter.widget-view+json": {
       "model_id": "69127340bac742c089fb3d25680acbf8",
       "version_major": 2,
       "version_minor": 0
      },
      "text/plain": [
       "  0%|          | 0/6 [00:00<?, ?it/s]"
      ]
     },
     "metadata": {},
     "output_type": "display_data"
    },
    {
     "name": "stderr",
     "output_type": "stream",
     "text": [
      "c:\\Users\\conni\\anaconda3\\envs\\tf-gpu\\lib\\site-packages\\sklearn\\metrics\\_classification.py:1248: UndefinedMetricWarning: Precision and F-score are ill-defined and being set to 0.0 in labels with no predicted samples. Use `zero_division` parameter to control this behavior.\n",
      "  _warn_prf(average, modifier, msg_start, len(result))\n",
      "c:\\Users\\conni\\anaconda3\\envs\\tf-gpu\\lib\\site-packages\\sklearn\\metrics\\_classification.py:1248: UndefinedMetricWarning: Recall and F-score are ill-defined and being set to 0.0 in labels with no true samples. Use `zero_division` parameter to control this behavior.\n",
      "  _warn_prf(average, modifier, msg_start, len(result))\n",
      "c:\\Users\\conni\\anaconda3\\envs\\tf-gpu\\lib\\site-packages\\sklearn\\metrics\\_classification.py:1248: UndefinedMetricWarning: Precision and F-score are ill-defined and being set to 0.0 in labels with no predicted samples. Use `zero_division` parameter to control this behavior.\n",
      "  _warn_prf(average, modifier, msg_start, len(result))\n",
      "c:\\Users\\conni\\anaconda3\\envs\\tf-gpu\\lib\\site-packages\\sklearn\\metrics\\_classification.py:1248: UndefinedMetricWarning: Recall and F-score are ill-defined and being set to 0.0 in labels with no true samples. Use `zero_division` parameter to control this behavior.\n",
      "  _warn_prf(average, modifier, msg_start, len(result))\n",
      "c:\\Users\\conni\\anaconda3\\envs\\tf-gpu\\lib\\site-packages\\sklearn\\metrics\\_classification.py:1248: UndefinedMetricWarning: Precision and F-score are ill-defined and being set to 0.0 in labels with no predicted samples. Use `zero_division` parameter to control this behavior.\n",
      "  _warn_prf(average, modifier, msg_start, len(result))\n",
      "c:\\Users\\conni\\anaconda3\\envs\\tf-gpu\\lib\\site-packages\\sklearn\\metrics\\_classification.py:1248: UndefinedMetricWarning: Recall and F-score are ill-defined and being set to 0.0 in labels with no true samples. Use `zero_division` parameter to control this behavior.\n",
      "  _warn_prf(average, modifier, msg_start, len(result))\n"
     ]
    },
    {
     "name": "stdout",
     "output_type": "stream",
     "text": [
      "report: \n",
      "               precision    recall  f1-score   support\n",
      "\n",
      "           0       0.42      0.67      0.52        12\n",
      "           1       0.00      0.00      0.00         9\n",
      "           2       0.40      0.43      0.41        14\n",
      "           3       0.00      0.00      0.00         0\n",
      "\n",
      "    accuracy                           0.40        35\n",
      "   macro avg       0.21      0.27      0.23        35\n",
      "weighted avg       0.30      0.40      0.34        35\n",
      "\n",
      "rep type:  <class 'str'>\n",
      "{'eval_loss': 1.335120677947998, 'eval_f1': 0.23248053392658513, 'eval_runtime': 0.3201, 'eval_samples_per_second': 109.343, 'eval_steps_per_second': 18.745, 'epoch': 6.0}\n"
     ]
    },
    {
     "data": {
      "application/vnd.jupyter.widget-view+json": {
       "model_id": "7e52aebeaea74cde851685cc8954df73",
       "version_major": 2,
       "version_minor": 0
      },
      "text/plain": [
       "  0%|          | 0/6 [00:00<?, ?it/s]"
      ]
     },
     "metadata": {},
     "output_type": "display_data"
    },
    {
     "name": "stderr",
     "output_type": "stream",
     "text": [
      "c:\\Users\\conni\\anaconda3\\envs\\tf-gpu\\lib\\site-packages\\sklearn\\metrics\\_classification.py:1248: UndefinedMetricWarning: Precision and F-score are ill-defined and being set to 0.0 in labels with no predicted samples. Use `zero_division` parameter to control this behavior.\n",
      "  _warn_prf(average, modifier, msg_start, len(result))\n",
      "c:\\Users\\conni\\anaconda3\\envs\\tf-gpu\\lib\\site-packages\\sklearn\\metrics\\_classification.py:1248: UndefinedMetricWarning: Recall and F-score are ill-defined and being set to 0.0 in labels with no true samples. Use `zero_division` parameter to control this behavior.\n",
      "  _warn_prf(average, modifier, msg_start, len(result))\n",
      "c:\\Users\\conni\\anaconda3\\envs\\tf-gpu\\lib\\site-packages\\sklearn\\metrics\\_classification.py:1248: UndefinedMetricWarning: Precision and F-score are ill-defined and being set to 0.0 in labels with no predicted samples. Use `zero_division` parameter to control this behavior.\n",
      "  _warn_prf(average, modifier, msg_start, len(result))\n",
      "c:\\Users\\conni\\anaconda3\\envs\\tf-gpu\\lib\\site-packages\\sklearn\\metrics\\_classification.py:1248: UndefinedMetricWarning: Recall and F-score are ill-defined and being set to 0.0 in labels with no true samples. Use `zero_division` parameter to control this behavior.\n",
      "  _warn_prf(average, modifier, msg_start, len(result))\n",
      "c:\\Users\\conni\\anaconda3\\envs\\tf-gpu\\lib\\site-packages\\sklearn\\metrics\\_classification.py:1248: UndefinedMetricWarning: Precision and F-score are ill-defined and being set to 0.0 in labels with no predicted samples. Use `zero_division` parameter to control this behavior.\n",
      "  _warn_prf(average, modifier, msg_start, len(result))\n",
      "c:\\Users\\conni\\anaconda3\\envs\\tf-gpu\\lib\\site-packages\\sklearn\\metrics\\_classification.py:1248: UndefinedMetricWarning: Recall and F-score are ill-defined and being set to 0.0 in labels with no true samples. Use `zero_division` parameter to control this behavior.\n",
      "  _warn_prf(average, modifier, msg_start, len(result))\n"
     ]
    },
    {
     "name": "stdout",
     "output_type": "stream",
     "text": [
      "report: \n",
      "               precision    recall  f1-score   support\n",
      "\n",
      "           0       0.60      0.25      0.35        12\n",
      "           1       0.00      0.00      0.00         9\n",
      "           2       0.46      0.79      0.58        14\n",
      "           3       0.00      0.00      0.00         0\n",
      "\n",
      "    accuracy                           0.40        35\n",
      "   macro avg       0.26      0.26      0.23        35\n",
      "weighted avg       0.39      0.40      0.35        35\n",
      "\n",
      "rep type:  <class 'str'>\n",
      "{'eval_loss': 1.4206159114837646, 'eval_f1': 0.23297213622291024, 'eval_runtime': 0.2953, 'eval_samples_per_second': 118.526, 'eval_steps_per_second': 20.319, 'epoch': 7.0}\n"
     ]
    },
    {
     "data": {
      "application/vnd.jupyter.widget-view+json": {
       "model_id": "672ece735a1d43c7a09857659d1f7758",
       "version_major": 2,
       "version_minor": 0
      },
      "text/plain": [
       "  0%|          | 0/6 [00:00<?, ?it/s]"
      ]
     },
     "metadata": {},
     "output_type": "display_data"
    },
    {
     "name": "stderr",
     "output_type": "stream",
     "text": [
      "c:\\Users\\conni\\anaconda3\\envs\\tf-gpu\\lib\\site-packages\\sklearn\\metrics\\_classification.py:1248: UndefinedMetricWarning: Precision and F-score are ill-defined and being set to 0.0 in labels with no predicted samples. Use `zero_division` parameter to control this behavior.\n",
      "  _warn_prf(average, modifier, msg_start, len(result))\n",
      "c:\\Users\\conni\\anaconda3\\envs\\tf-gpu\\lib\\site-packages\\sklearn\\metrics\\_classification.py:1248: UndefinedMetricWarning: Recall and F-score are ill-defined and being set to 0.0 in labels with no true samples. Use `zero_division` parameter to control this behavior.\n",
      "  _warn_prf(average, modifier, msg_start, len(result))\n",
      "c:\\Users\\conni\\anaconda3\\envs\\tf-gpu\\lib\\site-packages\\sklearn\\metrics\\_classification.py:1248: UndefinedMetricWarning: Precision and F-score are ill-defined and being set to 0.0 in labels with no predicted samples. Use `zero_division` parameter to control this behavior.\n",
      "  _warn_prf(average, modifier, msg_start, len(result))\n",
      "c:\\Users\\conni\\anaconda3\\envs\\tf-gpu\\lib\\site-packages\\sklearn\\metrics\\_classification.py:1248: UndefinedMetricWarning: Recall and F-score are ill-defined and being set to 0.0 in labels with no true samples. Use `zero_division` parameter to control this behavior.\n",
      "  _warn_prf(average, modifier, msg_start, len(result))\n",
      "c:\\Users\\conni\\anaconda3\\envs\\tf-gpu\\lib\\site-packages\\sklearn\\metrics\\_classification.py:1248: UndefinedMetricWarning: Precision and F-score are ill-defined and being set to 0.0 in labels with no predicted samples. Use `zero_division` parameter to control this behavior.\n",
      "  _warn_prf(average, modifier, msg_start, len(result))\n",
      "c:\\Users\\conni\\anaconda3\\envs\\tf-gpu\\lib\\site-packages\\sklearn\\metrics\\_classification.py:1248: UndefinedMetricWarning: Recall and F-score are ill-defined and being set to 0.0 in labels with no true samples. Use `zero_division` parameter to control this behavior.\n",
      "  _warn_prf(average, modifier, msg_start, len(result))\n"
     ]
    },
    {
     "name": "stdout",
     "output_type": "stream",
     "text": [
      "report: \n",
      "               precision    recall  f1-score   support\n",
      "\n",
      "           0       0.50      0.33      0.40        12\n",
      "           1       0.00      0.00      0.00         9\n",
      "           2       0.50      0.86      0.63        14\n",
      "           3       0.00      0.00      0.00         0\n",
      "\n",
      "    accuracy                           0.46        35\n",
      "   macro avg       0.25      0.30      0.26        35\n",
      "weighted avg       0.37      0.46      0.39        35\n",
      "\n",
      "rep type:  <class 'str'>\n",
      "{'eval_loss': 1.33847975730896, 'eval_f1': 0.2578947368421053, 'eval_runtime': 0.2739, 'eval_samples_per_second': 127.768, 'eval_steps_per_second': 21.903, 'epoch': 8.0}\n",
      "{'train_runtime': 65.3822, 'train_samples_per_second': 16.885, 'train_steps_per_second': 2.814, 'train_loss': 1.075794800468113, 'epoch': 8.0}\n"
     ]
    },
    {
     "data": {
      "application/vnd.jupyter.widget-view+json": {
       "model_id": "e379f3067ebc46cdb197476a3006e6c7",
       "version_major": 2,
       "version_minor": 0
      },
      "text/plain": [
       "  0%|          | 0/6 [00:00<?, ?it/s]"
      ]
     },
     "metadata": {},
     "output_type": "display_data"
    },
    {
     "name": "stderr",
     "output_type": "stream",
     "text": [
      "c:\\Users\\conni\\anaconda3\\envs\\tf-gpu\\lib\\site-packages\\sklearn\\metrics\\_classification.py:1248: UndefinedMetricWarning: Precision and F-score are ill-defined and being set to 0.0 in labels with no predicted samples. Use `zero_division` parameter to control this behavior.\n",
      "  _warn_prf(average, modifier, msg_start, len(result))\n",
      "c:\\Users\\conni\\anaconda3\\envs\\tf-gpu\\lib\\site-packages\\sklearn\\metrics\\_classification.py:1248: UndefinedMetricWarning: Recall and F-score are ill-defined and being set to 0.0 in labels with no true samples. Use `zero_division` parameter to control this behavior.\n",
      "  _warn_prf(average, modifier, msg_start, len(result))\n",
      "c:\\Users\\conni\\anaconda3\\envs\\tf-gpu\\lib\\site-packages\\sklearn\\metrics\\_classification.py:1248: UndefinedMetricWarning: Precision and F-score are ill-defined and being set to 0.0 in labels with no predicted samples. Use `zero_division` parameter to control this behavior.\n",
      "  _warn_prf(average, modifier, msg_start, len(result))\n",
      "c:\\Users\\conni\\anaconda3\\envs\\tf-gpu\\lib\\site-packages\\sklearn\\metrics\\_classification.py:1248: UndefinedMetricWarning: Recall and F-score are ill-defined and being set to 0.0 in labels with no true samples. Use `zero_division` parameter to control this behavior.\n",
      "  _warn_prf(average, modifier, msg_start, len(result))\n",
      "c:\\Users\\conni\\anaconda3\\envs\\tf-gpu\\lib\\site-packages\\sklearn\\metrics\\_classification.py:1248: UndefinedMetricWarning: Precision and F-score are ill-defined and being set to 0.0 in labels with no predicted samples. Use `zero_division` parameter to control this behavior.\n",
      "  _warn_prf(average, modifier, msg_start, len(result))\n",
      "c:\\Users\\conni\\anaconda3\\envs\\tf-gpu\\lib\\site-packages\\sklearn\\metrics\\_classification.py:1248: UndefinedMetricWarning: Recall and F-score are ill-defined and being set to 0.0 in labels with no true samples. Use `zero_division` parameter to control this behavior.\n",
      "  _warn_prf(average, modifier, msg_start, len(result))\n"
     ]
    },
    {
     "name": "stdout",
     "output_type": "stream",
     "text": [
      "report: \n",
      "               precision    recall  f1-score   support\n",
      "\n",
      "           0       0.50      0.33      0.40        12\n",
      "           1       0.00      0.00      0.00         9\n",
      "           2       0.50      0.86      0.63        14\n",
      "           3       0.00      0.00      0.00         0\n",
      "\n",
      "    accuracy                           0.46        35\n",
      "   macro avg       0.25      0.30      0.26        35\n",
      "weighted avg       0.37      0.46      0.39        35\n",
      "\n",
      "rep type:  <class 'str'>\n",
      "F-1:  0.2578947368421053\n",
      "FOLD:  1\n",
      "LEN DF:  138\n",
      "done train df\n",
      "done eval df\n",
      "LEN EVAL:  35\n"
     ]
    },
    {
     "data": {
      "application/vnd.jupyter.widget-view+json": {
       "model_id": "c92aec2b434c4f72a10a506d18d38db4",
       "version_major": 2,
       "version_minor": 0
      },
      "text/plain": [
       "Map:   0%|          | 0/138 [00:00<?, ? examples/s]"
      ]
     },
     "metadata": {},
     "output_type": "display_data"
    },
    {
     "data": {
      "application/vnd.jupyter.widget-view+json": {
       "model_id": "231929888b5346c887bd62928e8667be",
       "version_major": 2,
       "version_minor": 0
      },
      "text/plain": [
       "Map:   0%|          | 0/35 [00:00<?, ? examples/s]"
      ]
     },
     "metadata": {},
     "output_type": "display_data"
    },
    {
     "name": "stderr",
     "output_type": "stream",
     "text": [
      "c:\\Users\\conni\\anaconda3\\envs\\tf-gpu\\lib\\site-packages\\transformers\\optimization.py:391: FutureWarning: This implementation of AdamW is deprecated and will be removed in a future version. Use the PyTorch implementation torch.optim.AdamW instead, or set `no_deprecation_warning=True` to disable this warning\n",
      "  warnings.warn(\n"
     ]
    },
    {
     "data": {
      "application/vnd.jupyter.widget-view+json": {
       "model_id": "20b34ac6d6d748718ae6a8fe182bf166",
       "version_major": 2,
       "version_minor": 0
      },
      "text/plain": [
       "  0%|          | 0/184 [00:00<?, ?it/s]"
      ]
     },
     "metadata": {},
     "output_type": "display_data"
    },
    {
     "data": {
      "application/vnd.jupyter.widget-view+json": {
       "model_id": "7cef53d49cb146e3880be8f875138c05",
       "version_major": 2,
       "version_minor": 0
      },
      "text/plain": [
       "  0%|          | 0/6 [00:00<?, ?it/s]"
      ]
     },
     "metadata": {},
     "output_type": "display_data"
    },
    {
     "name": "stderr",
     "output_type": "stream",
     "text": [
      "c:\\Users\\conni\\anaconda3\\envs\\tf-gpu\\lib\\site-packages\\sklearn\\metrics\\_classification.py:1248: UndefinedMetricWarning: Precision and F-score are ill-defined and being set to 0.0 in labels with no predicted samples. Use `zero_division` parameter to control this behavior.\n",
      "  _warn_prf(average, modifier, msg_start, len(result))\n",
      "c:\\Users\\conni\\anaconda3\\envs\\tf-gpu\\lib\\site-packages\\sklearn\\metrics\\_classification.py:1248: UndefinedMetricWarning: Precision and F-score are ill-defined and being set to 0.0 in labels with no predicted samples. Use `zero_division` parameter to control this behavior.\n",
      "  _warn_prf(average, modifier, msg_start, len(result))\n",
      "c:\\Users\\conni\\anaconda3\\envs\\tf-gpu\\lib\\site-packages\\sklearn\\metrics\\_classification.py:1248: UndefinedMetricWarning: Precision and F-score are ill-defined and being set to 0.0 in labels with no predicted samples. Use `zero_division` parameter to control this behavior.\n",
      "  _warn_prf(average, modifier, msg_start, len(result))\n"
     ]
    },
    {
     "name": "stdout",
     "output_type": "stream",
     "text": [
      "report: \n",
      "               precision    recall  f1-score   support\n",
      "\n",
      "           0       0.23      1.00      0.37         8\n",
      "           1       0.00      0.00      0.00         6\n",
      "           2       0.00      0.00      0.00        15\n",
      "           3       0.00      0.00      0.00         6\n",
      "\n",
      "    accuracy                           0.23        35\n",
      "   macro avg       0.06      0.25      0.09        35\n",
      "weighted avg       0.05      0.23      0.09        35\n",
      "\n",
      "rep type:  <class 'str'>\n",
      "{'eval_loss': 1.4057917594909668, 'eval_f1': 0.09302325581395347, 'eval_runtime': 0.275, 'eval_samples_per_second': 127.287, 'eval_steps_per_second': 21.821, 'epoch': 1.0}\n"
     ]
    },
    {
     "data": {
      "application/vnd.jupyter.widget-view+json": {
       "model_id": "fe05d7006e7940b48e9b9b00136685db",
       "version_major": 2,
       "version_minor": 0
      },
      "text/plain": [
       "  0%|          | 0/6 [00:00<?, ?it/s]"
      ]
     },
     "metadata": {},
     "output_type": "display_data"
    },
    {
     "name": "stderr",
     "output_type": "stream",
     "text": [
      "c:\\Users\\conni\\anaconda3\\envs\\tf-gpu\\lib\\site-packages\\sklearn\\metrics\\_classification.py:1248: UndefinedMetricWarning: Precision and F-score are ill-defined and being set to 0.0 in labels with no predicted samples. Use `zero_division` parameter to control this behavior.\n",
      "  _warn_prf(average, modifier, msg_start, len(result))\n",
      "c:\\Users\\conni\\anaconda3\\envs\\tf-gpu\\lib\\site-packages\\sklearn\\metrics\\_classification.py:1248: UndefinedMetricWarning: Precision and F-score are ill-defined and being set to 0.0 in labels with no predicted samples. Use `zero_division` parameter to control this behavior.\n",
      "  _warn_prf(average, modifier, msg_start, len(result))\n",
      "c:\\Users\\conni\\anaconda3\\envs\\tf-gpu\\lib\\site-packages\\sklearn\\metrics\\_classification.py:1248: UndefinedMetricWarning: Precision and F-score are ill-defined and being set to 0.0 in labels with no predicted samples. Use `zero_division` parameter to control this behavior.\n",
      "  _warn_prf(average, modifier, msg_start, len(result))\n"
     ]
    },
    {
     "name": "stdout",
     "output_type": "stream",
     "text": [
      "report: \n",
      "               precision    recall  f1-score   support\n",
      "\n",
      "           0       0.23      1.00      0.37         8\n",
      "           1       0.00      0.00      0.00         6\n",
      "           2       0.00      0.00      0.00        15\n",
      "           3       0.00      0.00      0.00         6\n",
      "\n",
      "    accuracy                           0.23        35\n",
      "   macro avg       0.06      0.25      0.09        35\n",
      "weighted avg       0.05      0.23      0.09        35\n",
      "\n",
      "rep type:  <class 'str'>\n",
      "{'eval_loss': 1.4484484195709229, 'eval_f1': 0.09302325581395347, 'eval_runtime': 0.3448, 'eval_samples_per_second': 101.494, 'eval_steps_per_second': 17.399, 'epoch': 2.0}\n"
     ]
    },
    {
     "data": {
      "application/vnd.jupyter.widget-view+json": {
       "model_id": "1de36f1dfa534b4fb08bfdd18e84eeac",
       "version_major": 2,
       "version_minor": 0
      },
      "text/plain": [
       "  0%|          | 0/6 [00:00<?, ?it/s]"
      ]
     },
     "metadata": {},
     "output_type": "display_data"
    },
    {
     "name": "stderr",
     "output_type": "stream",
     "text": [
      "c:\\Users\\conni\\anaconda3\\envs\\tf-gpu\\lib\\site-packages\\sklearn\\metrics\\_classification.py:1248: UndefinedMetricWarning: Precision and F-score are ill-defined and being set to 0.0 in labels with no predicted samples. Use `zero_division` parameter to control this behavior.\n",
      "  _warn_prf(average, modifier, msg_start, len(result))\n",
      "c:\\Users\\conni\\anaconda3\\envs\\tf-gpu\\lib\\site-packages\\sklearn\\metrics\\_classification.py:1248: UndefinedMetricWarning: Precision and F-score are ill-defined and being set to 0.0 in labels with no predicted samples. Use `zero_division` parameter to control this behavior.\n",
      "  _warn_prf(average, modifier, msg_start, len(result))\n",
      "c:\\Users\\conni\\anaconda3\\envs\\tf-gpu\\lib\\site-packages\\sklearn\\metrics\\_classification.py:1248: UndefinedMetricWarning: Precision and F-score are ill-defined and being set to 0.0 in labels with no predicted samples. Use `zero_division` parameter to control this behavior.\n",
      "  _warn_prf(average, modifier, msg_start, len(result))\n"
     ]
    },
    {
     "name": "stdout",
     "output_type": "stream",
     "text": [
      "report: \n",
      "               precision    recall  f1-score   support\n",
      "\n",
      "           0       1.00      0.38      0.55         8\n",
      "           1       0.00      0.00      0.00         6\n",
      "           2       0.47      1.00      0.64        15\n",
      "           3       0.00      0.00      0.00         6\n",
      "\n",
      "    accuracy                           0.51        35\n",
      "   macro avg       0.37      0.34      0.30        35\n",
      "weighted avg       0.43      0.51      0.40        35\n",
      "\n",
      "rep type:  <class 'str'>\n",
      "{'eval_loss': 1.3577896356582642, 'eval_f1': 0.29593810444874274, 'eval_runtime': 0.2918, 'eval_samples_per_second': 119.965, 'eval_steps_per_second': 20.565, 'epoch': 3.0}\n"
     ]
    },
    {
     "data": {
      "application/vnd.jupyter.widget-view+json": {
       "model_id": "c445301eb96846fc8aa77c4059263959",
       "version_major": 2,
       "version_minor": 0
      },
      "text/plain": [
       "  0%|          | 0/6 [00:00<?, ?it/s]"
      ]
     },
     "metadata": {},
     "output_type": "display_data"
    },
    {
     "name": "stderr",
     "output_type": "stream",
     "text": [
      "c:\\Users\\conni\\anaconda3\\envs\\tf-gpu\\lib\\site-packages\\sklearn\\metrics\\_classification.py:1248: UndefinedMetricWarning: Precision and F-score are ill-defined and being set to 0.0 in labels with no predicted samples. Use `zero_division` parameter to control this behavior.\n",
      "  _warn_prf(average, modifier, msg_start, len(result))\n",
      "c:\\Users\\conni\\anaconda3\\envs\\tf-gpu\\lib\\site-packages\\sklearn\\metrics\\_classification.py:1248: UndefinedMetricWarning: Precision and F-score are ill-defined and being set to 0.0 in labels with no predicted samples. Use `zero_division` parameter to control this behavior.\n",
      "  _warn_prf(average, modifier, msg_start, len(result))\n",
      "c:\\Users\\conni\\anaconda3\\envs\\tf-gpu\\lib\\site-packages\\sklearn\\metrics\\_classification.py:1248: UndefinedMetricWarning: Precision and F-score are ill-defined and being set to 0.0 in labels with no predicted samples. Use `zero_division` parameter to control this behavior.\n",
      "  _warn_prf(average, modifier, msg_start, len(result))\n"
     ]
    },
    {
     "name": "stdout",
     "output_type": "stream",
     "text": [
      "report: \n",
      "               precision    recall  f1-score   support\n",
      "\n",
      "           0       0.00      0.00      0.00         8\n",
      "           1       0.00      0.00      0.00         6\n",
      "           2       0.44      0.93      0.60        15\n",
      "           3       0.00      0.00      0.00         6\n",
      "\n",
      "    accuracy                           0.40        35\n",
      "   macro avg       0.11      0.23      0.15        35\n",
      "weighted avg       0.19      0.40      0.26        35\n",
      "\n",
      "rep type:  <class 'str'>\n",
      "{'eval_loss': 1.3718316555023193, 'eval_f1': 0.14893617021276595, 'eval_runtime': 0.3442, 'eval_samples_per_second': 101.693, 'eval_steps_per_second': 17.433, 'epoch': 4.0}\n"
     ]
    },
    {
     "data": {
      "application/vnd.jupyter.widget-view+json": {
       "model_id": "65b6836b762646e9a784913f30ee8a5e",
       "version_major": 2,
       "version_minor": 0
      },
      "text/plain": [
       "  0%|          | 0/6 [00:00<?, ?it/s]"
      ]
     },
     "metadata": {},
     "output_type": "display_data"
    },
    {
     "name": "stderr",
     "output_type": "stream",
     "text": [
      "c:\\Users\\conni\\anaconda3\\envs\\tf-gpu\\lib\\site-packages\\sklearn\\metrics\\_classification.py:1248: UndefinedMetricWarning: Precision and F-score are ill-defined and being set to 0.0 in labels with no predicted samples. Use `zero_division` parameter to control this behavior.\n",
      "  _warn_prf(average, modifier, msg_start, len(result))\n",
      "c:\\Users\\conni\\anaconda3\\envs\\tf-gpu\\lib\\site-packages\\sklearn\\metrics\\_classification.py:1248: UndefinedMetricWarning: Precision and F-score are ill-defined and being set to 0.0 in labels with no predicted samples. Use `zero_division` parameter to control this behavior.\n",
      "  _warn_prf(average, modifier, msg_start, len(result))\n",
      "c:\\Users\\conni\\anaconda3\\envs\\tf-gpu\\lib\\site-packages\\sklearn\\metrics\\_classification.py:1248: UndefinedMetricWarning: Precision and F-score are ill-defined and being set to 0.0 in labels with no predicted samples. Use `zero_division` parameter to control this behavior.\n",
      "  _warn_prf(average, modifier, msg_start, len(result))\n"
     ]
    },
    {
     "name": "stdout",
     "output_type": "stream",
     "text": [
      "report: \n",
      "               precision    recall  f1-score   support\n",
      "\n",
      "           0       0.28      0.88      0.42         8\n",
      "           1       0.33      0.17      0.22         6\n",
      "           2       0.86      0.40      0.55        15\n",
      "           3       0.00      0.00      0.00         6\n",
      "\n",
      "    accuracy                           0.40        35\n",
      "   macro avg       0.37      0.36      0.30        35\n",
      "weighted avg       0.49      0.40      0.37        35\n",
      "\n",
      "rep type:  <class 'str'>\n",
      "{'eval_loss': 1.1904164552688599, 'eval_f1': 0.297979797979798, 'eval_runtime': 0.2691, 'eval_samples_per_second': 130.049, 'eval_steps_per_second': 22.294, 'epoch': 5.0}\n"
     ]
    },
    {
     "data": {
      "application/vnd.jupyter.widget-view+json": {
       "model_id": "822d79107fc94741bda548271a645f4e",
       "version_major": 2,
       "version_minor": 0
      },
      "text/plain": [
       "  0%|          | 0/6 [00:00<?, ?it/s]"
      ]
     },
     "metadata": {},
     "output_type": "display_data"
    },
    {
     "name": "stderr",
     "output_type": "stream",
     "text": [
      "c:\\Users\\conni\\anaconda3\\envs\\tf-gpu\\lib\\site-packages\\sklearn\\metrics\\_classification.py:1248: UndefinedMetricWarning: Precision and F-score are ill-defined and being set to 0.0 in labels with no predicted samples. Use `zero_division` parameter to control this behavior.\n",
      "  _warn_prf(average, modifier, msg_start, len(result))\n",
      "c:\\Users\\conni\\anaconda3\\envs\\tf-gpu\\lib\\site-packages\\sklearn\\metrics\\_classification.py:1248: UndefinedMetricWarning: Precision and F-score are ill-defined and being set to 0.0 in labels with no predicted samples. Use `zero_division` parameter to control this behavior.\n",
      "  _warn_prf(average, modifier, msg_start, len(result))\n",
      "c:\\Users\\conni\\anaconda3\\envs\\tf-gpu\\lib\\site-packages\\sklearn\\metrics\\_classification.py:1248: UndefinedMetricWarning: Precision and F-score are ill-defined and being set to 0.0 in labels with no predicted samples. Use `zero_division` parameter to control this behavior.\n",
      "  _warn_prf(average, modifier, msg_start, len(result))\n"
     ]
    },
    {
     "name": "stdout",
     "output_type": "stream",
     "text": [
      "report: \n",
      "               precision    recall  f1-score   support\n",
      "\n",
      "           0       0.50      0.62      0.56         8\n",
      "           1       0.40      0.33      0.36         6\n",
      "           2       0.60      0.80      0.69        15\n",
      "           3       0.00      0.00      0.00         6\n",
      "\n",
      "    accuracy                           0.54        35\n",
      "   macro avg       0.38      0.44      0.40        35\n",
      "weighted avg       0.44      0.54      0.48        35\n",
      "\n",
      "rep type:  <class 'str'>\n",
      "{'eval_loss': 1.2217886447906494, 'eval_f1': 0.4012265512265512, 'eval_runtime': 0.261, 'eval_samples_per_second': 134.103, 'eval_steps_per_second': 22.989, 'epoch': 6.0}\n"
     ]
    },
    {
     "data": {
      "application/vnd.jupyter.widget-view+json": {
       "model_id": "c4b3846a19274415a0a03e7b6a01d4f6",
       "version_major": 2,
       "version_minor": 0
      },
      "text/plain": [
       "  0%|          | 0/6 [00:00<?, ?it/s]"
      ]
     },
     "metadata": {},
     "output_type": "display_data"
    },
    {
     "name": "stderr",
     "output_type": "stream",
     "text": [
      "c:\\Users\\conni\\anaconda3\\envs\\tf-gpu\\lib\\site-packages\\sklearn\\metrics\\_classification.py:1248: UndefinedMetricWarning: Precision and F-score are ill-defined and being set to 0.0 in labels with no predicted samples. Use `zero_division` parameter to control this behavior.\n",
      "  _warn_prf(average, modifier, msg_start, len(result))\n",
      "c:\\Users\\conni\\anaconda3\\envs\\tf-gpu\\lib\\site-packages\\sklearn\\metrics\\_classification.py:1248: UndefinedMetricWarning: Precision and F-score are ill-defined and being set to 0.0 in labels with no predicted samples. Use `zero_division` parameter to control this behavior.\n",
      "  _warn_prf(average, modifier, msg_start, len(result))\n",
      "c:\\Users\\conni\\anaconda3\\envs\\tf-gpu\\lib\\site-packages\\sklearn\\metrics\\_classification.py:1248: UndefinedMetricWarning: Precision and F-score are ill-defined and being set to 0.0 in labels with no predicted samples. Use `zero_division` parameter to control this behavior.\n",
      "  _warn_prf(average, modifier, msg_start, len(result))\n"
     ]
    },
    {
     "name": "stdout",
     "output_type": "stream",
     "text": [
      "report: \n",
      "               precision    recall  f1-score   support\n",
      "\n",
      "           0       0.50      1.00      0.67         8\n",
      "           1       0.50      0.50      0.50         6\n",
      "           2       0.85      0.73      0.79        15\n",
      "           3       0.00      0.00      0.00         6\n",
      "\n",
      "    accuracy                           0.63        35\n",
      "   macro avg       0.46      0.56      0.49        35\n",
      "weighted avg       0.56      0.63      0.57        35\n",
      "\n",
      "rep type:  <class 'str'>\n",
      "{'eval_loss': 1.1068669557571411, 'eval_f1': 0.488095238095238, 'eval_runtime': 0.2605, 'eval_samples_per_second': 134.36, 'eval_steps_per_second': 23.033, 'epoch': 7.0}\n"
     ]
    },
    {
     "data": {
      "application/vnd.jupyter.widget-view+json": {
       "model_id": "605606f6732e496e9b95a45150c4bdcd",
       "version_major": 2,
       "version_minor": 0
      },
      "text/plain": [
       "  0%|          | 0/6 [00:00<?, ?it/s]"
      ]
     },
     "metadata": {},
     "output_type": "display_data"
    },
    {
     "name": "stderr",
     "output_type": "stream",
     "text": [
      "c:\\Users\\conni\\anaconda3\\envs\\tf-gpu\\lib\\site-packages\\sklearn\\metrics\\_classification.py:1248: UndefinedMetricWarning: Precision and F-score are ill-defined and being set to 0.0 in labels with no predicted samples. Use `zero_division` parameter to control this behavior.\n",
      "  _warn_prf(average, modifier, msg_start, len(result))\n",
      "c:\\Users\\conni\\anaconda3\\envs\\tf-gpu\\lib\\site-packages\\sklearn\\metrics\\_classification.py:1248: UndefinedMetricWarning: Precision and F-score are ill-defined and being set to 0.0 in labels with no predicted samples. Use `zero_division` parameter to control this behavior.\n",
      "  _warn_prf(average, modifier, msg_start, len(result))\n",
      "c:\\Users\\conni\\anaconda3\\envs\\tf-gpu\\lib\\site-packages\\sklearn\\metrics\\_classification.py:1248: UndefinedMetricWarning: Precision and F-score are ill-defined and being set to 0.0 in labels with no predicted samples. Use `zero_division` parameter to control this behavior.\n",
      "  _warn_prf(average, modifier, msg_start, len(result))\n"
     ]
    },
    {
     "name": "stdout",
     "output_type": "stream",
     "text": [
      "report: \n",
      "               precision    recall  f1-score   support\n",
      "\n",
      "           0       0.57      1.00      0.73         8\n",
      "           1       0.40      0.33      0.36         6\n",
      "           2       0.75      0.80      0.77        15\n",
      "           3       0.00      0.00      0.00         6\n",
      "\n",
      "    accuracy                           0.63        35\n",
      "   macro avg       0.43      0.53      0.47        35\n",
      "weighted avg       0.52      0.63      0.56        35\n",
      "\n",
      "rep type:  <class 'str'>\n",
      "{'eval_loss': 1.1687743663787842, 'eval_f1': 0.46627565982404695, 'eval_runtime': 0.2568, 'eval_samples_per_second': 136.309, 'eval_steps_per_second': 23.367, 'epoch': 8.0}\n",
      "{'train_runtime': 73.9768, 'train_samples_per_second': 14.924, 'train_steps_per_second': 2.487, 'train_loss': 0.8878276659094769, 'epoch': 8.0}\n"
     ]
    },
    {
     "data": {
      "application/vnd.jupyter.widget-view+json": {
       "model_id": "0b98fa27b2be487289d55d3d5fbca126",
       "version_major": 2,
       "version_minor": 0
      },
      "text/plain": [
       "  0%|          | 0/6 [00:00<?, ?it/s]"
      ]
     },
     "metadata": {},
     "output_type": "display_data"
    },
    {
     "name": "stderr",
     "output_type": "stream",
     "text": [
      "c:\\Users\\conni\\anaconda3\\envs\\tf-gpu\\lib\\site-packages\\sklearn\\metrics\\_classification.py:1248: UndefinedMetricWarning: Precision and F-score are ill-defined and being set to 0.0 in labels with no predicted samples. Use `zero_division` parameter to control this behavior.\n",
      "  _warn_prf(average, modifier, msg_start, len(result))\n",
      "c:\\Users\\conni\\anaconda3\\envs\\tf-gpu\\lib\\site-packages\\sklearn\\metrics\\_classification.py:1248: UndefinedMetricWarning: Precision and F-score are ill-defined and being set to 0.0 in labels with no predicted samples. Use `zero_division` parameter to control this behavior.\n",
      "  _warn_prf(average, modifier, msg_start, len(result))\n",
      "c:\\Users\\conni\\anaconda3\\envs\\tf-gpu\\lib\\site-packages\\sklearn\\metrics\\_classification.py:1248: UndefinedMetricWarning: Precision and F-score are ill-defined and being set to 0.0 in labels with no predicted samples. Use `zero_division` parameter to control this behavior.\n",
      "  _warn_prf(average, modifier, msg_start, len(result))\n"
     ]
    },
    {
     "name": "stdout",
     "output_type": "stream",
     "text": [
      "report: \n",
      "               precision    recall  f1-score   support\n",
      "\n",
      "           0       0.50      1.00      0.67         8\n",
      "           1       0.50      0.50      0.50         6\n",
      "           2       0.85      0.73      0.79        15\n",
      "           3       0.00      0.00      0.00         6\n",
      "\n",
      "    accuracy                           0.63        35\n",
      "   macro avg       0.46      0.56      0.49        35\n",
      "weighted avg       0.56      0.63      0.57        35\n",
      "\n",
      "rep type:  <class 'str'>\n",
      "F-1:  0.488095238095238\n",
      "FOLD:  2\n",
      "LEN DF:  138\n",
      "done train df\n",
      "done eval df\n",
      "LEN EVAL:  35\n"
     ]
    },
    {
     "data": {
      "application/vnd.jupyter.widget-view+json": {
       "model_id": "f012fb80d9354f8d934799ab0528991d",
       "version_major": 2,
       "version_minor": 0
      },
      "text/plain": [
       "Map:   0%|          | 0/138 [00:00<?, ? examples/s]"
      ]
     },
     "metadata": {},
     "output_type": "display_data"
    },
    {
     "data": {
      "application/vnd.jupyter.widget-view+json": {
       "model_id": "5cee9994442f4055944eba92c64e2eae",
       "version_major": 2,
       "version_minor": 0
      },
      "text/plain": [
       "Map:   0%|          | 0/35 [00:00<?, ? examples/s]"
      ]
     },
     "metadata": {},
     "output_type": "display_data"
    },
    {
     "name": "stderr",
     "output_type": "stream",
     "text": [
      "c:\\Users\\conni\\anaconda3\\envs\\tf-gpu\\lib\\site-packages\\transformers\\optimization.py:391: FutureWarning: This implementation of AdamW is deprecated and will be removed in a future version. Use the PyTorch implementation torch.optim.AdamW instead, or set `no_deprecation_warning=True` to disable this warning\n",
      "  warnings.warn(\n"
     ]
    },
    {
     "data": {
      "application/vnd.jupyter.widget-view+json": {
       "model_id": "d7c1efcd623640e58e9ae6e80aa21102",
       "version_major": 2,
       "version_minor": 0
      },
      "text/plain": [
       "  0%|          | 0/184 [00:00<?, ?it/s]"
      ]
     },
     "metadata": {},
     "output_type": "display_data"
    },
    {
     "data": {
      "application/vnd.jupyter.widget-view+json": {
       "model_id": "694dee53e02c4ce69e8023b0eda22920",
       "version_major": 2,
       "version_minor": 0
      },
      "text/plain": [
       "  0%|          | 0/6 [00:00<?, ?it/s]"
      ]
     },
     "metadata": {},
     "output_type": "display_data"
    },
    {
     "name": "stderr",
     "output_type": "stream",
     "text": [
      "c:\\Users\\conni\\anaconda3\\envs\\tf-gpu\\lib\\site-packages\\sklearn\\metrics\\_classification.py:1248: UndefinedMetricWarning: Precision and F-score are ill-defined and being set to 0.0 in labels with no predicted samples. Use `zero_division` parameter to control this behavior.\n",
      "  _warn_prf(average, modifier, msg_start, len(result))\n",
      "c:\\Users\\conni\\anaconda3\\envs\\tf-gpu\\lib\\site-packages\\sklearn\\metrics\\_classification.py:1248: UndefinedMetricWarning: Precision and F-score are ill-defined and being set to 0.0 in labels with no predicted samples. Use `zero_division` parameter to control this behavior.\n",
      "  _warn_prf(average, modifier, msg_start, len(result))\n",
      "c:\\Users\\conni\\anaconda3\\envs\\tf-gpu\\lib\\site-packages\\sklearn\\metrics\\_classification.py:1248: UndefinedMetricWarning: Precision and F-score are ill-defined and being set to 0.0 in labels with no predicted samples. Use `zero_division` parameter to control this behavior.\n",
      "  _warn_prf(average, modifier, msg_start, len(result))\n"
     ]
    },
    {
     "name": "stdout",
     "output_type": "stream",
     "text": [
      "report: \n",
      "               precision    recall  f1-score   support\n",
      "\n",
      "           0       0.00      0.00      0.00        14\n",
      "           1       0.00      0.00      0.00         5\n",
      "           2       0.43      1.00      0.60        15\n",
      "           3       0.00      0.00      0.00         1\n",
      "\n",
      "    accuracy                           0.43        35\n",
      "   macro avg       0.11      0.25      0.15        35\n",
      "weighted avg       0.18      0.43      0.26        35\n",
      "\n",
      "rep type:  <class 'str'>\n",
      "{'eval_loss': 1.1925339698791504, 'eval_f1': 0.15, 'eval_runtime': 0.2635, 'eval_samples_per_second': 132.826, 'eval_steps_per_second': 22.77, 'epoch': 1.0}\n"
     ]
    },
    {
     "data": {
      "application/vnd.jupyter.widget-view+json": {
       "model_id": "7449084fe51a46d99702ff24b5979c56",
       "version_major": 2,
       "version_minor": 0
      },
      "text/plain": [
       "  0%|          | 0/6 [00:00<?, ?it/s]"
      ]
     },
     "metadata": {},
     "output_type": "display_data"
    },
    {
     "name": "stderr",
     "output_type": "stream",
     "text": [
      "c:\\Users\\conni\\anaconda3\\envs\\tf-gpu\\lib\\site-packages\\sklearn\\metrics\\_classification.py:1248: UndefinedMetricWarning: Precision and F-score are ill-defined and being set to 0.0 in labels with no predicted samples. Use `zero_division` parameter to control this behavior.\n",
      "  _warn_prf(average, modifier, msg_start, len(result))\n",
      "c:\\Users\\conni\\anaconda3\\envs\\tf-gpu\\lib\\site-packages\\sklearn\\metrics\\_classification.py:1248: UndefinedMetricWarning: Precision and F-score are ill-defined and being set to 0.0 in labels with no predicted samples. Use `zero_division` parameter to control this behavior.\n",
      "  _warn_prf(average, modifier, msg_start, len(result))\n",
      "c:\\Users\\conni\\anaconda3\\envs\\tf-gpu\\lib\\site-packages\\sklearn\\metrics\\_classification.py:1248: UndefinedMetricWarning: Precision and F-score are ill-defined and being set to 0.0 in labels with no predicted samples. Use `zero_division` parameter to control this behavior.\n",
      "  _warn_prf(average, modifier, msg_start, len(result))\n"
     ]
    },
    {
     "name": "stdout",
     "output_type": "stream",
     "text": [
      "report: \n",
      "               precision    recall  f1-score   support\n",
      "\n",
      "           0       0.50      0.07      0.12        14\n",
      "           1       0.00      0.00      0.00         5\n",
      "           2       0.42      0.93      0.58        15\n",
      "           3       0.00      0.00      0.00         1\n",
      "\n",
      "    accuracy                           0.43        35\n",
      "   macro avg       0.23      0.25      0.18        35\n",
      "weighted avg       0.38      0.43      0.30        35\n",
      "\n",
      "rep type:  <class 'str'>\n",
      "{'eval_loss': 1.171134114265442, 'eval_f1': 0.17708333333333331, 'eval_runtime': 0.278, 'eval_samples_per_second': 125.92, 'eval_steps_per_second': 21.586, 'epoch': 2.0}\n"
     ]
    },
    {
     "data": {
      "application/vnd.jupyter.widget-view+json": {
       "model_id": "9559bb49d2c1406182fbf4cf24d4d03a",
       "version_major": 2,
       "version_minor": 0
      },
      "text/plain": [
       "  0%|          | 0/6 [00:00<?, ?it/s]"
      ]
     },
     "metadata": {},
     "output_type": "display_data"
    },
    {
     "name": "stderr",
     "output_type": "stream",
     "text": [
      "c:\\Users\\conni\\anaconda3\\envs\\tf-gpu\\lib\\site-packages\\sklearn\\metrics\\_classification.py:1248: UndefinedMetricWarning: Precision and F-score are ill-defined and being set to 0.0 in labels with no predicted samples. Use `zero_division` parameter to control this behavior.\n",
      "  _warn_prf(average, modifier, msg_start, len(result))\n",
      "c:\\Users\\conni\\anaconda3\\envs\\tf-gpu\\lib\\site-packages\\sklearn\\metrics\\_classification.py:1248: UndefinedMetricWarning: Precision and F-score are ill-defined and being set to 0.0 in labels with no predicted samples. Use `zero_division` parameter to control this behavior.\n",
      "  _warn_prf(average, modifier, msg_start, len(result))\n",
      "c:\\Users\\conni\\anaconda3\\envs\\tf-gpu\\lib\\site-packages\\sklearn\\metrics\\_classification.py:1248: UndefinedMetricWarning: Precision and F-score are ill-defined and being set to 0.0 in labels with no predicted samples. Use `zero_division` parameter to control this behavior.\n",
      "  _warn_prf(average, modifier, msg_start, len(result))\n"
     ]
    },
    {
     "name": "stdout",
     "output_type": "stream",
     "text": [
      "report: \n",
      "               precision    recall  f1-score   support\n",
      "\n",
      "           0       0.00      0.00      0.00        14\n",
      "           1       0.00      0.00      0.00         5\n",
      "           2       0.43      1.00      0.60        15\n",
      "           3       0.00      0.00      0.00         1\n",
      "\n",
      "    accuracy                           0.43        35\n",
      "   macro avg       0.11      0.25      0.15        35\n",
      "weighted avg       0.18      0.43      0.26        35\n",
      "\n",
      "rep type:  <class 'str'>\n",
      "{'eval_loss': 1.2608928680419922, 'eval_f1': 0.15, 'eval_runtime': 0.2672, 'eval_samples_per_second': 130.974, 'eval_steps_per_second': 22.453, 'epoch': 3.0}\n"
     ]
    },
    {
     "data": {
      "application/vnd.jupyter.widget-view+json": {
       "model_id": "8f3637137634459e912b6b5e6be04b81",
       "version_major": 2,
       "version_minor": 0
      },
      "text/plain": [
       "  0%|          | 0/6 [00:00<?, ?it/s]"
      ]
     },
     "metadata": {},
     "output_type": "display_data"
    },
    {
     "name": "stderr",
     "output_type": "stream",
     "text": [
      "c:\\Users\\conni\\anaconda3\\envs\\tf-gpu\\lib\\site-packages\\sklearn\\metrics\\_classification.py:1248: UndefinedMetricWarning: Precision and F-score are ill-defined and being set to 0.0 in labels with no predicted samples. Use `zero_division` parameter to control this behavior.\n",
      "  _warn_prf(average, modifier, msg_start, len(result))\n",
      "c:\\Users\\conni\\anaconda3\\envs\\tf-gpu\\lib\\site-packages\\sklearn\\metrics\\_classification.py:1248: UndefinedMetricWarning: Precision and F-score are ill-defined and being set to 0.0 in labels with no predicted samples. Use `zero_division` parameter to control this behavior.\n",
      "  _warn_prf(average, modifier, msg_start, len(result))\n",
      "c:\\Users\\conni\\anaconda3\\envs\\tf-gpu\\lib\\site-packages\\sklearn\\metrics\\_classification.py:1248: UndefinedMetricWarning: Precision and F-score are ill-defined and being set to 0.0 in labels with no predicted samples. Use `zero_division` parameter to control this behavior.\n",
      "  _warn_prf(average, modifier, msg_start, len(result))\n"
     ]
    },
    {
     "name": "stdout",
     "output_type": "stream",
     "text": [
      "report: \n",
      "               precision    recall  f1-score   support\n",
      "\n",
      "           0       0.50      0.07      0.12        14\n",
      "           1       0.00      0.00      0.00         5\n",
      "           2       0.42      0.93      0.58        15\n",
      "           3       0.00      0.00      0.00         1\n",
      "\n",
      "    accuracy                           0.43        35\n",
      "   macro avg       0.23      0.25      0.18        35\n",
      "weighted avg       0.38      0.43      0.30        35\n",
      "\n",
      "rep type:  <class 'str'>\n",
      "{'eval_loss': 1.3489395380020142, 'eval_f1': 0.17708333333333331, 'eval_runtime': 0.2612, 'eval_samples_per_second': 133.978, 'eval_steps_per_second': 22.968, 'epoch': 4.0}\n"
     ]
    },
    {
     "data": {
      "application/vnd.jupyter.widget-view+json": {
       "model_id": "36cf9e1b7aab4bf582920e69fcd22c7d",
       "version_major": 2,
       "version_minor": 0
      },
      "text/plain": [
       "  0%|          | 0/6 [00:00<?, ?it/s]"
      ]
     },
     "metadata": {},
     "output_type": "display_data"
    },
    {
     "name": "stderr",
     "output_type": "stream",
     "text": [
      "c:\\Users\\conni\\anaconda3\\envs\\tf-gpu\\lib\\site-packages\\sklearn\\metrics\\_classification.py:1248: UndefinedMetricWarning: Precision and F-score are ill-defined and being set to 0.0 in labels with no predicted samples. Use `zero_division` parameter to control this behavior.\n",
      "  _warn_prf(average, modifier, msg_start, len(result))\n",
      "c:\\Users\\conni\\anaconda3\\envs\\tf-gpu\\lib\\site-packages\\sklearn\\metrics\\_classification.py:1248: UndefinedMetricWarning: Precision and F-score are ill-defined and being set to 0.0 in labels with no predicted samples. Use `zero_division` parameter to control this behavior.\n",
      "  _warn_prf(average, modifier, msg_start, len(result))\n",
      "c:\\Users\\conni\\anaconda3\\envs\\tf-gpu\\lib\\site-packages\\sklearn\\metrics\\_classification.py:1248: UndefinedMetricWarning: Precision and F-score are ill-defined and being set to 0.0 in labels with no predicted samples. Use `zero_division` parameter to control this behavior.\n",
      "  _warn_prf(average, modifier, msg_start, len(result))\n"
     ]
    },
    {
     "name": "stdout",
     "output_type": "stream",
     "text": [
      "report: \n",
      "               precision    recall  f1-score   support\n",
      "\n",
      "           0       1.00      0.07      0.13        14\n",
      "           1       0.00      0.00      0.00         5\n",
      "           2       0.47      1.00      0.64        15\n",
      "           3       0.00      0.00      0.00         1\n",
      "\n",
      "    accuracy                           0.46        35\n",
      "   macro avg       0.37      0.27      0.19        35\n",
      "weighted avg       0.60      0.46      0.33        35\n",
      "\n",
      "rep type:  <class 'str'>\n",
      "{'eval_loss': 1.3954232931137085, 'eval_f1': 0.19290780141843972, 'eval_runtime': 0.2753, 'eval_samples_per_second': 127.14, 'eval_steps_per_second': 21.795, 'epoch': 5.0}\n"
     ]
    },
    {
     "data": {
      "application/vnd.jupyter.widget-view+json": {
       "model_id": "7dd8cf9add9f4961a288774767ca6e58",
       "version_major": 2,
       "version_minor": 0
      },
      "text/plain": [
       "  0%|          | 0/6 [00:00<?, ?it/s]"
      ]
     },
     "metadata": {},
     "output_type": "display_data"
    },
    {
     "name": "stderr",
     "output_type": "stream",
     "text": [
      "c:\\Users\\conni\\anaconda3\\envs\\tf-gpu\\lib\\site-packages\\sklearn\\metrics\\_classification.py:1248: UndefinedMetricWarning: Precision and F-score are ill-defined and being set to 0.0 in labels with no predicted samples. Use `zero_division` parameter to control this behavior.\n",
      "  _warn_prf(average, modifier, msg_start, len(result))\n",
      "c:\\Users\\conni\\anaconda3\\envs\\tf-gpu\\lib\\site-packages\\sklearn\\metrics\\_classification.py:1248: UndefinedMetricWarning: Precision and F-score are ill-defined and being set to 0.0 in labels with no predicted samples. Use `zero_division` parameter to control this behavior.\n",
      "  _warn_prf(average, modifier, msg_start, len(result))\n",
      "c:\\Users\\conni\\anaconda3\\envs\\tf-gpu\\lib\\site-packages\\sklearn\\metrics\\_classification.py:1248: UndefinedMetricWarning: Precision and F-score are ill-defined and being set to 0.0 in labels with no predicted samples. Use `zero_division` parameter to control this behavior.\n",
      "  _warn_prf(average, modifier, msg_start, len(result))\n"
     ]
    },
    {
     "name": "stdout",
     "output_type": "stream",
     "text": [
      "report: \n",
      "               precision    recall  f1-score   support\n",
      "\n",
      "           0       0.78      0.50      0.61        14\n",
      "           1       0.29      0.40      0.33         5\n",
      "           2       0.58      0.73      0.65        15\n",
      "           3       0.00      0.00      0.00         1\n",
      "\n",
      "    accuracy                           0.57        35\n",
      "   macro avg       0.41      0.41      0.40        35\n",
      "weighted avg       0.60      0.57      0.57        35\n",
      "\n",
      "rep type:  <class 'str'>\n",
      "{'eval_loss': 1.0531623363494873, 'eval_f1': 0.3972719522591645, 'eval_runtime': 0.261, 'eval_samples_per_second': 134.099, 'eval_steps_per_second': 22.988, 'epoch': 6.0}\n"
     ]
    },
    {
     "data": {
      "application/vnd.jupyter.widget-view+json": {
       "model_id": "d1c95d68cf054c1a9aa95673366fc0f2",
       "version_major": 2,
       "version_minor": 0
      },
      "text/plain": [
       "  0%|          | 0/6 [00:00<?, ?it/s]"
      ]
     },
     "metadata": {},
     "output_type": "display_data"
    },
    {
     "name": "stderr",
     "output_type": "stream",
     "text": [
      "c:\\Users\\conni\\anaconda3\\envs\\tf-gpu\\lib\\site-packages\\sklearn\\metrics\\_classification.py:1248: UndefinedMetricWarning: Precision and F-score are ill-defined and being set to 0.0 in labels with no predicted samples. Use `zero_division` parameter to control this behavior.\n",
      "  _warn_prf(average, modifier, msg_start, len(result))\n",
      "c:\\Users\\conni\\anaconda3\\envs\\tf-gpu\\lib\\site-packages\\sklearn\\metrics\\_classification.py:1248: UndefinedMetricWarning: Precision and F-score are ill-defined and being set to 0.0 in labels with no predicted samples. Use `zero_division` parameter to control this behavior.\n",
      "  _warn_prf(average, modifier, msg_start, len(result))\n",
      "c:\\Users\\conni\\anaconda3\\envs\\tf-gpu\\lib\\site-packages\\sklearn\\metrics\\_classification.py:1248: UndefinedMetricWarning: Precision and F-score are ill-defined and being set to 0.0 in labels with no predicted samples. Use `zero_division` parameter to control this behavior.\n",
      "  _warn_prf(average, modifier, msg_start, len(result))\n"
     ]
    },
    {
     "name": "stdout",
     "output_type": "stream",
     "text": [
      "report: \n",
      "               precision    recall  f1-score   support\n",
      "\n",
      "           0       0.75      0.21      0.33        14\n",
      "           1       0.15      0.40      0.22         5\n",
      "           2       0.61      0.73      0.67        15\n",
      "           3       0.00      0.00      0.00         1\n",
      "\n",
      "    accuracy                           0.46        35\n",
      "   macro avg       0.38      0.34      0.31        35\n",
      "weighted avg       0.58      0.46      0.45        35\n",
      "\n",
      "rep type:  <class 'str'>\n",
      "{'eval_loss': 1.2484222650527954, 'eval_f1': 0.3055555555555556, 'eval_runtime': 0.2672, 'eval_samples_per_second': 131.012, 'eval_steps_per_second': 22.459, 'epoch': 7.0}\n"
     ]
    },
    {
     "data": {
      "application/vnd.jupyter.widget-view+json": {
       "model_id": "8931ff3e37bb498a88a119aa4d90dcb8",
       "version_major": 2,
       "version_minor": 0
      },
      "text/plain": [
       "  0%|          | 0/6 [00:00<?, ?it/s]"
      ]
     },
     "metadata": {},
     "output_type": "display_data"
    },
    {
     "name": "stderr",
     "output_type": "stream",
     "text": [
      "c:\\Users\\conni\\anaconda3\\envs\\tf-gpu\\lib\\site-packages\\sklearn\\metrics\\_classification.py:1248: UndefinedMetricWarning: Precision and F-score are ill-defined and being set to 0.0 in labels with no predicted samples. Use `zero_division` parameter to control this behavior.\n",
      "  _warn_prf(average, modifier, msg_start, len(result))\n",
      "c:\\Users\\conni\\anaconda3\\envs\\tf-gpu\\lib\\site-packages\\sklearn\\metrics\\_classification.py:1248: UndefinedMetricWarning: Precision and F-score are ill-defined and being set to 0.0 in labels with no predicted samples. Use `zero_division` parameter to control this behavior.\n",
      "  _warn_prf(average, modifier, msg_start, len(result))\n",
      "c:\\Users\\conni\\anaconda3\\envs\\tf-gpu\\lib\\site-packages\\sklearn\\metrics\\_classification.py:1248: UndefinedMetricWarning: Precision and F-score are ill-defined and being set to 0.0 in labels with no predicted samples. Use `zero_division` parameter to control this behavior.\n",
      "  _warn_prf(average, modifier, msg_start, len(result))\n"
     ]
    },
    {
     "name": "stdout",
     "output_type": "stream",
     "text": [
      "report: \n",
      "               precision    recall  f1-score   support\n",
      "\n",
      "           0       0.62      0.36      0.45        14\n",
      "           1       0.33      0.40      0.36         5\n",
      "           2       0.52      0.73      0.61        15\n",
      "           3       0.00      0.00      0.00         1\n",
      "\n",
      "    accuracy                           0.51        35\n",
      "   macro avg       0.37      0.37      0.36        35\n",
      "weighted avg       0.52      0.51      0.50        35\n",
      "\n",
      "rep type:  <class 'str'>\n",
      "{'eval_loss': 1.1822458505630493, 'eval_f1': 0.35732323232323226, 'eval_runtime': 0.2607, 'eval_samples_per_second': 134.263, 'eval_steps_per_second': 23.017, 'epoch': 8.0}\n",
      "{'train_runtime': 59.4124, 'train_samples_per_second': 18.582, 'train_steps_per_second': 3.097, 'train_loss': 0.7985156515370244, 'epoch': 8.0}\n"
     ]
    },
    {
     "data": {
      "application/vnd.jupyter.widget-view+json": {
       "model_id": "c6e9e7d56ac448c2bd99899bfac5d97a",
       "version_major": 2,
       "version_minor": 0
      },
      "text/plain": [
       "  0%|          | 0/6 [00:00<?, ?it/s]"
      ]
     },
     "metadata": {},
     "output_type": "display_data"
    },
    {
     "name": "stderr",
     "output_type": "stream",
     "text": [
      "c:\\Users\\conni\\anaconda3\\envs\\tf-gpu\\lib\\site-packages\\sklearn\\metrics\\_classification.py:1248: UndefinedMetricWarning: Precision and F-score are ill-defined and being set to 0.0 in labels with no predicted samples. Use `zero_division` parameter to control this behavior.\n",
      "  _warn_prf(average, modifier, msg_start, len(result))\n",
      "c:\\Users\\conni\\anaconda3\\envs\\tf-gpu\\lib\\site-packages\\sklearn\\metrics\\_classification.py:1248: UndefinedMetricWarning: Precision and F-score are ill-defined and being set to 0.0 in labels with no predicted samples. Use `zero_division` parameter to control this behavior.\n",
      "  _warn_prf(average, modifier, msg_start, len(result))\n",
      "c:\\Users\\conni\\anaconda3\\envs\\tf-gpu\\lib\\site-packages\\sklearn\\metrics\\_classification.py:1248: UndefinedMetricWarning: Precision and F-score are ill-defined and being set to 0.0 in labels with no predicted samples. Use `zero_division` parameter to control this behavior.\n",
      "  _warn_prf(average, modifier, msg_start, len(result))\n"
     ]
    },
    {
     "name": "stdout",
     "output_type": "stream",
     "text": [
      "report: \n",
      "               precision    recall  f1-score   support\n",
      "\n",
      "           0       0.78      0.50      0.61        14\n",
      "           1       0.29      0.40      0.33         5\n",
      "           2       0.58      0.73      0.65        15\n",
      "           3       0.00      0.00      0.00         1\n",
      "\n",
      "    accuracy                           0.57        35\n",
      "   macro avg       0.41      0.41      0.40        35\n",
      "weighted avg       0.60      0.57      0.57        35\n",
      "\n",
      "rep type:  <class 'str'>\n",
      "F-1:  0.3972719522591645\n",
      "FOLD:  3\n",
      "LEN DF:  139\n",
      "done train df\n",
      "done eval df\n",
      "LEN EVAL:  34\n"
     ]
    },
    {
     "data": {
      "application/vnd.jupyter.widget-view+json": {
       "model_id": "276ec85310c8424cb2d5b2fab92f1d70",
       "version_major": 2,
       "version_minor": 0
      },
      "text/plain": [
       "Map:   0%|          | 0/139 [00:00<?, ? examples/s]"
      ]
     },
     "metadata": {},
     "output_type": "display_data"
    },
    {
     "data": {
      "application/vnd.jupyter.widget-view+json": {
       "model_id": "920508fe10cc405194c54a4840ff6d53",
       "version_major": 2,
       "version_minor": 0
      },
      "text/plain": [
       "Map:   0%|          | 0/34 [00:00<?, ? examples/s]"
      ]
     },
     "metadata": {},
     "output_type": "display_data"
    },
    {
     "name": "stderr",
     "output_type": "stream",
     "text": [
      "c:\\Users\\conni\\anaconda3\\envs\\tf-gpu\\lib\\site-packages\\transformers\\optimization.py:391: FutureWarning: This implementation of AdamW is deprecated and will be removed in a future version. Use the PyTorch implementation torch.optim.AdamW instead, or set `no_deprecation_warning=True` to disable this warning\n",
      "  warnings.warn(\n"
     ]
    },
    {
     "data": {
      "application/vnd.jupyter.widget-view+json": {
       "model_id": "a10adbce4d5640d88e379973d71145a4",
       "version_major": 2,
       "version_minor": 0
      },
      "text/plain": [
       "  0%|          | 0/192 [00:00<?, ?it/s]"
      ]
     },
     "metadata": {},
     "output_type": "display_data"
    },
    {
     "data": {
      "application/vnd.jupyter.widget-view+json": {
       "model_id": "1db89c4e08d34ea686524fed7f14f4e4",
       "version_major": 2,
       "version_minor": 0
      },
      "text/plain": [
       "  0%|          | 0/6 [00:00<?, ?it/s]"
      ]
     },
     "metadata": {},
     "output_type": "display_data"
    },
    {
     "name": "stderr",
     "output_type": "stream",
     "text": [
      "c:\\Users\\conni\\anaconda3\\envs\\tf-gpu\\lib\\site-packages\\sklearn\\metrics\\_classification.py:1248: UndefinedMetricWarning: Precision and F-score are ill-defined and being set to 0.0 in labels with no predicted samples. Use `zero_division` parameter to control this behavior.\n",
      "  _warn_prf(average, modifier, msg_start, len(result))\n",
      "c:\\Users\\conni\\anaconda3\\envs\\tf-gpu\\lib\\site-packages\\sklearn\\metrics\\_classification.py:1248: UndefinedMetricWarning: Precision and F-score are ill-defined and being set to 0.0 in labels with no predicted samples. Use `zero_division` parameter to control this behavior.\n",
      "  _warn_prf(average, modifier, msg_start, len(result))\n",
      "c:\\Users\\conni\\anaconda3\\envs\\tf-gpu\\lib\\site-packages\\sklearn\\metrics\\_classification.py:1248: UndefinedMetricWarning: Precision and F-score are ill-defined and being set to 0.0 in labels with no predicted samples. Use `zero_division` parameter to control this behavior.\n",
      "  _warn_prf(average, modifier, msg_start, len(result))\n"
     ]
    },
    {
     "name": "stdout",
     "output_type": "stream",
     "text": [
      "report: \n",
      "               precision    recall  f1-score   support\n",
      "\n",
      "           0       0.00      0.00      0.00         9\n",
      "           1       0.00      0.00      0.00         5\n",
      "           2       0.52      1.00      0.68        17\n",
      "           3       0.00      0.00      0.00         3\n",
      "\n",
      "    accuracy                           0.50        34\n",
      "   macro avg       0.13      0.25      0.17        34\n",
      "weighted avg       0.26      0.50      0.34        34\n",
      "\n",
      "rep type:  <class 'str'>\n",
      "{'eval_loss': 1.2123949527740479, 'eval_f1': 0.16999999999999998, 'eval_runtime': 0.2619, 'eval_samples_per_second': 129.828, 'eval_steps_per_second': 22.911, 'epoch': 1.0}\n"
     ]
    },
    {
     "data": {
      "application/vnd.jupyter.widget-view+json": {
       "model_id": "742ef46634594356ad37735ae901c0e8",
       "version_major": 2,
       "version_minor": 0
      },
      "text/plain": [
       "  0%|          | 0/6 [00:00<?, ?it/s]"
      ]
     },
     "metadata": {},
     "output_type": "display_data"
    },
    {
     "name": "stderr",
     "output_type": "stream",
     "text": [
      "c:\\Users\\conni\\anaconda3\\envs\\tf-gpu\\lib\\site-packages\\sklearn\\metrics\\_classification.py:1248: UndefinedMetricWarning: Precision and F-score are ill-defined and being set to 0.0 in labels with no predicted samples. Use `zero_division` parameter to control this behavior.\n",
      "  _warn_prf(average, modifier, msg_start, len(result))\n",
      "c:\\Users\\conni\\anaconda3\\envs\\tf-gpu\\lib\\site-packages\\sklearn\\metrics\\_classification.py:1248: UndefinedMetricWarning: Precision and F-score are ill-defined and being set to 0.0 in labels with no predicted samples. Use `zero_division` parameter to control this behavior.\n",
      "  _warn_prf(average, modifier, msg_start, len(result))\n",
      "c:\\Users\\conni\\anaconda3\\envs\\tf-gpu\\lib\\site-packages\\sklearn\\metrics\\_classification.py:1248: UndefinedMetricWarning: Precision and F-score are ill-defined and being set to 0.0 in labels with no predicted samples. Use `zero_division` parameter to control this behavior.\n",
      "  _warn_prf(average, modifier, msg_start, len(result))\n"
     ]
    },
    {
     "name": "stdout",
     "output_type": "stream",
     "text": [
      "report: \n",
      "               precision    recall  f1-score   support\n",
      "\n",
      "           0       1.00      0.22      0.36         9\n",
      "           1       0.00      0.00      0.00         5\n",
      "           2       0.53      1.00      0.69        17\n",
      "           3       0.00      0.00      0.00         3\n",
      "\n",
      "    accuracy                           0.56        34\n",
      "   macro avg       0.38      0.31      0.26        34\n",
      "weighted avg       0.53      0.56      0.44        34\n",
      "\n",
      "rep type:  <class 'str'>\n",
      "{'eval_loss': 1.1285600662231445, 'eval_f1': 0.26437847866419295, 'eval_runtime': 0.2605, 'eval_samples_per_second': 130.52, 'eval_steps_per_second': 23.033, 'epoch': 2.0}\n"
     ]
    },
    {
     "data": {
      "application/vnd.jupyter.widget-view+json": {
       "model_id": "235dd11a79e2480c969867ec2b64eeef",
       "version_major": 2,
       "version_minor": 0
      },
      "text/plain": [
       "  0%|          | 0/6 [00:00<?, ?it/s]"
      ]
     },
     "metadata": {},
     "output_type": "display_data"
    },
    {
     "name": "stderr",
     "output_type": "stream",
     "text": [
      "c:\\Users\\conni\\anaconda3\\envs\\tf-gpu\\lib\\site-packages\\sklearn\\metrics\\_classification.py:1248: UndefinedMetricWarning: Precision and F-score are ill-defined and being set to 0.0 in labels with no predicted samples. Use `zero_division` parameter to control this behavior.\n",
      "  _warn_prf(average, modifier, msg_start, len(result))\n",
      "c:\\Users\\conni\\anaconda3\\envs\\tf-gpu\\lib\\site-packages\\sklearn\\metrics\\_classification.py:1248: UndefinedMetricWarning: Precision and F-score are ill-defined and being set to 0.0 in labels with no predicted samples. Use `zero_division` parameter to control this behavior.\n",
      "  _warn_prf(average, modifier, msg_start, len(result))\n",
      "c:\\Users\\conni\\anaconda3\\envs\\tf-gpu\\lib\\site-packages\\sklearn\\metrics\\_classification.py:1248: UndefinedMetricWarning: Precision and F-score are ill-defined and being set to 0.0 in labels with no predicted samples. Use `zero_division` parameter to control this behavior.\n",
      "  _warn_prf(average, modifier, msg_start, len(result))\n"
     ]
    },
    {
     "name": "stdout",
     "output_type": "stream",
     "text": [
      "report: \n",
      "               precision    recall  f1-score   support\n",
      "\n",
      "           0       0.50      0.22      0.31         9\n",
      "           1       1.00      0.40      0.57         5\n",
      "           2       0.57      0.94      0.71        17\n",
      "           3       0.00      0.00      0.00         3\n",
      "\n",
      "    accuracy                           0.59        34\n",
      "   macro avg       0.52      0.39      0.40        34\n",
      "weighted avg       0.57      0.59      0.52        34\n",
      "\n",
      "rep type:  <class 'str'>\n",
      "{'eval_loss': 1.1088975667953491, 'eval_f1': 0.3975579975579976, 'eval_runtime': 0.2606, 'eval_samples_per_second': 130.487, 'eval_steps_per_second': 23.027, 'epoch': 3.0}\n"
     ]
    },
    {
     "data": {
      "application/vnd.jupyter.widget-view+json": {
       "model_id": "e9b5fc55f9784c99a6440d6edf6dad11",
       "version_major": 2,
       "version_minor": 0
      },
      "text/plain": [
       "  0%|          | 0/6 [00:00<?, ?it/s]"
      ]
     },
     "metadata": {},
     "output_type": "display_data"
    },
    {
     "name": "stderr",
     "output_type": "stream",
     "text": [
      "c:\\Users\\conni\\anaconda3\\envs\\tf-gpu\\lib\\site-packages\\sklearn\\metrics\\_classification.py:1248: UndefinedMetricWarning: Precision and F-score are ill-defined and being set to 0.0 in labels with no predicted samples. Use `zero_division` parameter to control this behavior.\n",
      "  _warn_prf(average, modifier, msg_start, len(result))\n",
      "c:\\Users\\conni\\anaconda3\\envs\\tf-gpu\\lib\\site-packages\\sklearn\\metrics\\_classification.py:1248: UndefinedMetricWarning: Precision and F-score are ill-defined and being set to 0.0 in labels with no predicted samples. Use `zero_division` parameter to control this behavior.\n",
      "  _warn_prf(average, modifier, msg_start, len(result))\n",
      "c:\\Users\\conni\\anaconda3\\envs\\tf-gpu\\lib\\site-packages\\sklearn\\metrics\\_classification.py:1248: UndefinedMetricWarning: Precision and F-score are ill-defined and being set to 0.0 in labels with no predicted samples. Use `zero_division` parameter to control this behavior.\n",
      "  _warn_prf(average, modifier, msg_start, len(result))\n"
     ]
    },
    {
     "name": "stdout",
     "output_type": "stream",
     "text": [
      "report: \n",
      "               precision    recall  f1-score   support\n",
      "\n",
      "           0       0.60      0.33      0.43         9\n",
      "           1       0.33      0.80      0.47         5\n",
      "           2       0.71      0.71      0.71        17\n",
      "           3       0.00      0.00      0.00         3\n",
      "\n",
      "    accuracy                           0.56        34\n",
      "   macro avg       0.41      0.46      0.40        34\n",
      "weighted avg       0.56      0.56      0.54        34\n",
      "\n",
      "rep type:  <class 'str'>\n",
      "{'eval_loss': 1.3464467525482178, 'eval_f1': 0.4012605042016807, 'eval_runtime': 0.2565, 'eval_samples_per_second': 132.554, 'eval_steps_per_second': 23.392, 'epoch': 4.0}\n"
     ]
    },
    {
     "data": {
      "application/vnd.jupyter.widget-view+json": {
       "model_id": "edc5d132c1f943fab1d8d8e3e72500de",
       "version_major": 2,
       "version_minor": 0
      },
      "text/plain": [
       "  0%|          | 0/6 [00:00<?, ?it/s]"
      ]
     },
     "metadata": {},
     "output_type": "display_data"
    },
    {
     "name": "stderr",
     "output_type": "stream",
     "text": [
      "c:\\Users\\conni\\anaconda3\\envs\\tf-gpu\\lib\\site-packages\\sklearn\\metrics\\_classification.py:1248: UndefinedMetricWarning: Precision and F-score are ill-defined and being set to 0.0 in labels with no predicted samples. Use `zero_division` parameter to control this behavior.\n",
      "  _warn_prf(average, modifier, msg_start, len(result))\n",
      "c:\\Users\\conni\\anaconda3\\envs\\tf-gpu\\lib\\site-packages\\sklearn\\metrics\\_classification.py:1248: UndefinedMetricWarning: Precision and F-score are ill-defined and being set to 0.0 in labels with no predicted samples. Use `zero_division` parameter to control this behavior.\n",
      "  _warn_prf(average, modifier, msg_start, len(result))\n",
      "c:\\Users\\conni\\anaconda3\\envs\\tf-gpu\\lib\\site-packages\\sklearn\\metrics\\_classification.py:1248: UndefinedMetricWarning: Precision and F-score are ill-defined and being set to 0.0 in labels with no predicted samples. Use `zero_division` parameter to control this behavior.\n",
      "  _warn_prf(average, modifier, msg_start, len(result))\n"
     ]
    },
    {
     "name": "stdout",
     "output_type": "stream",
     "text": [
      "report: \n",
      "               precision    recall  f1-score   support\n",
      "\n",
      "           0       0.33      0.22      0.27         9\n",
      "           1       0.50      0.80      0.62         5\n",
      "           2       0.75      0.88      0.81        17\n",
      "           3       0.00      0.00      0.00         3\n",
      "\n",
      "    accuracy                           0.62        34\n",
      "   macro avg       0.40      0.48      0.42        34\n",
      "weighted avg       0.54      0.62      0.57        34\n",
      "\n",
      "rep type:  <class 'str'>\n",
      "{'eval_loss': 1.4763931035995483, 'eval_f1': 0.4232155232155232, 'eval_runtime': 0.2812, 'eval_samples_per_second': 120.896, 'eval_steps_per_second': 21.335, 'epoch': 5.0}\n"
     ]
    },
    {
     "data": {
      "application/vnd.jupyter.widget-view+json": {
       "model_id": "84470e35f4b7459fb3b04376bd1573a6",
       "version_major": 2,
       "version_minor": 0
      },
      "text/plain": [
       "  0%|          | 0/6 [00:00<?, ?it/s]"
      ]
     },
     "metadata": {},
     "output_type": "display_data"
    },
    {
     "name": "stdout",
     "output_type": "stream",
     "text": [
      "report: \n",
      "               precision    recall  f1-score   support\n",
      "\n",
      "           0       0.30      0.33      0.32         9\n",
      "           1       0.43      0.60      0.50         5\n",
      "           2       0.81      0.76      0.79        17\n",
      "           3       0.00      0.00      0.00         3\n",
      "\n",
      "    accuracy                           0.56        34\n",
      "   macro avg       0.39      0.42      0.40        34\n",
      "weighted avg       0.55      0.56      0.55        34\n",
      "\n",
      "rep type:  <class 'str'>\n",
      "{'eval_loss': 1.6467573642730713, 'eval_f1': 0.4009170653907496, 'eval_runtime': 0.2574, 'eval_samples_per_second': 132.086, 'eval_steps_per_second': 23.309, 'epoch': 6.0}\n"
     ]
    },
    {
     "data": {
      "application/vnd.jupyter.widget-view+json": {
       "model_id": "def2a644ae9d410baadea33ab56cd3ca",
       "version_major": 2,
       "version_minor": 0
      },
      "text/plain": [
       "  0%|          | 0/6 [00:00<?, ?it/s]"
      ]
     },
     "metadata": {},
     "output_type": "display_data"
    },
    {
     "name": "stderr",
     "output_type": "stream",
     "text": [
      "c:\\Users\\conni\\anaconda3\\envs\\tf-gpu\\lib\\site-packages\\sklearn\\metrics\\_classification.py:1248: UndefinedMetricWarning: Precision and F-score are ill-defined and being set to 0.0 in labels with no predicted samples. Use `zero_division` parameter to control this behavior.\n",
      "  _warn_prf(average, modifier, msg_start, len(result))\n",
      "c:\\Users\\conni\\anaconda3\\envs\\tf-gpu\\lib\\site-packages\\sklearn\\metrics\\_classification.py:1248: UndefinedMetricWarning: Precision and F-score are ill-defined and being set to 0.0 in labels with no predicted samples. Use `zero_division` parameter to control this behavior.\n",
      "  _warn_prf(average, modifier, msg_start, len(result))\n",
      "c:\\Users\\conni\\anaconda3\\envs\\tf-gpu\\lib\\site-packages\\sklearn\\metrics\\_classification.py:1248: UndefinedMetricWarning: Precision and F-score are ill-defined and being set to 0.0 in labels with no predicted samples. Use `zero_division` parameter to control this behavior.\n",
      "  _warn_prf(average, modifier, msg_start, len(result))\n"
     ]
    },
    {
     "name": "stdout",
     "output_type": "stream",
     "text": [
      "report: \n",
      "               precision    recall  f1-score   support\n",
      "\n",
      "           0       0.25      0.22      0.24         9\n",
      "           1       0.50      0.80      0.62         5\n",
      "           2       0.78      0.82      0.80        17\n",
      "           3       0.00      0.00      0.00         3\n",
      "\n",
      "    accuracy                           0.59        34\n",
      "   macro avg       0.38      0.46      0.41        34\n",
      "weighted avg       0.53      0.59      0.55        34\n",
      "\n",
      "rep type:  <class 'str'>\n",
      "{'eval_loss': 1.7017351388931274, 'eval_f1': 0.41266968325791853, 'eval_runtime': 0.2631, 'eval_samples_per_second': 129.212, 'eval_steps_per_second': 22.802, 'epoch': 7.0}\n"
     ]
    },
    {
     "data": {
      "application/vnd.jupyter.widget-view+json": {
       "model_id": "699904f49911483a96643b6ef1cd7362",
       "version_major": 2,
       "version_minor": 0
      },
      "text/plain": [
       "  0%|          | 0/6 [00:00<?, ?it/s]"
      ]
     },
     "metadata": {},
     "output_type": "display_data"
    },
    {
     "name": "stderr",
     "output_type": "stream",
     "text": [
      "c:\\Users\\conni\\anaconda3\\envs\\tf-gpu\\lib\\site-packages\\sklearn\\metrics\\_classification.py:1248: UndefinedMetricWarning: Precision and F-score are ill-defined and being set to 0.0 in labels with no predicted samples. Use `zero_division` parameter to control this behavior.\n",
      "  _warn_prf(average, modifier, msg_start, len(result))\n",
      "c:\\Users\\conni\\anaconda3\\envs\\tf-gpu\\lib\\site-packages\\sklearn\\metrics\\_classification.py:1248: UndefinedMetricWarning: Precision and F-score are ill-defined and being set to 0.0 in labels with no predicted samples. Use `zero_division` parameter to control this behavior.\n",
      "  _warn_prf(average, modifier, msg_start, len(result))\n",
      "c:\\Users\\conni\\anaconda3\\envs\\tf-gpu\\lib\\site-packages\\sklearn\\metrics\\_classification.py:1248: UndefinedMetricWarning: Precision and F-score are ill-defined and being set to 0.0 in labels with no predicted samples. Use `zero_division` parameter to control this behavior.\n",
      "  _warn_prf(average, modifier, msg_start, len(result))\n"
     ]
    },
    {
     "name": "stdout",
     "output_type": "stream",
     "text": [
      "report: \n",
      "               precision    recall  f1-score   support\n",
      "\n",
      "           0       0.33      0.22      0.27         9\n",
      "           1       0.50      0.80      0.62         5\n",
      "           2       0.75      0.88      0.81        17\n",
      "           3       0.00      0.00      0.00         3\n",
      "\n",
      "    accuracy                           0.62        34\n",
      "   macro avg       0.40      0.48      0.42        34\n",
      "weighted avg       0.54      0.62      0.57        34\n",
      "\n",
      "rep type:  <class 'str'>\n",
      "{'eval_loss': 1.747233271598816, 'eval_f1': 0.4232155232155232, 'eval_runtime': 0.2558, 'eval_samples_per_second': 132.94, 'eval_steps_per_second': 23.46, 'epoch': 8.0}\n",
      "{'train_runtime': 62.1013, 'train_samples_per_second': 17.906, 'train_steps_per_second': 3.092, 'train_loss': 0.4552481174468994, 'epoch': 8.0}\n"
     ]
    },
    {
     "data": {
      "application/vnd.jupyter.widget-view+json": {
       "model_id": "cd9e76505b704f4abcf16ba26c6f5f7e",
       "version_major": 2,
       "version_minor": 0
      },
      "text/plain": [
       "  0%|          | 0/6 [00:00<?, ?it/s]"
      ]
     },
     "metadata": {},
     "output_type": "display_data"
    },
    {
     "name": "stderr",
     "output_type": "stream",
     "text": [
      "c:\\Users\\conni\\anaconda3\\envs\\tf-gpu\\lib\\site-packages\\sklearn\\metrics\\_classification.py:1248: UndefinedMetricWarning: Precision and F-score are ill-defined and being set to 0.0 in labels with no predicted samples. Use `zero_division` parameter to control this behavior.\n",
      "  _warn_prf(average, modifier, msg_start, len(result))\n",
      "c:\\Users\\conni\\anaconda3\\envs\\tf-gpu\\lib\\site-packages\\sklearn\\metrics\\_classification.py:1248: UndefinedMetricWarning: Precision and F-score are ill-defined and being set to 0.0 in labels with no predicted samples. Use `zero_division` parameter to control this behavior.\n",
      "  _warn_prf(average, modifier, msg_start, len(result))\n",
      "c:\\Users\\conni\\anaconda3\\envs\\tf-gpu\\lib\\site-packages\\sklearn\\metrics\\_classification.py:1248: UndefinedMetricWarning: Precision and F-score are ill-defined and being set to 0.0 in labels with no predicted samples. Use `zero_division` parameter to control this behavior.\n",
      "  _warn_prf(average, modifier, msg_start, len(result))\n"
     ]
    },
    {
     "name": "stdout",
     "output_type": "stream",
     "text": [
      "report: \n",
      "               precision    recall  f1-score   support\n",
      "\n",
      "           0       0.33      0.22      0.27         9\n",
      "           1       0.50      0.80      0.62         5\n",
      "           2       0.75      0.88      0.81        17\n",
      "           3       0.00      0.00      0.00         3\n",
      "\n",
      "    accuracy                           0.62        34\n",
      "   macro avg       0.40      0.48      0.42        34\n",
      "weighted avg       0.54      0.62      0.57        34\n",
      "\n",
      "rep type:  <class 'str'>\n",
      "F-1:  0.4232155232155232\n",
      "FOLD:  4\n",
      "LEN DF:  139\n",
      "done train df\n",
      "done eval df\n",
      "LEN EVAL:  34\n"
     ]
    },
    {
     "data": {
      "application/vnd.jupyter.widget-view+json": {
       "model_id": "e83ee3ee76bb4df9a628f731738e5608",
       "version_major": 2,
       "version_minor": 0
      },
      "text/plain": [
       "Map:   0%|          | 0/139 [00:00<?, ? examples/s]"
      ]
     },
     "metadata": {},
     "output_type": "display_data"
    },
    {
     "data": {
      "application/vnd.jupyter.widget-view+json": {
       "model_id": "0c1b14ccb9ad4c97b05f8a612672810a",
       "version_major": 2,
       "version_minor": 0
      },
      "text/plain": [
       "Map:   0%|          | 0/34 [00:00<?, ? examples/s]"
      ]
     },
     "metadata": {},
     "output_type": "display_data"
    },
    {
     "name": "stderr",
     "output_type": "stream",
     "text": [
      "c:\\Users\\conni\\anaconda3\\envs\\tf-gpu\\lib\\site-packages\\transformers\\optimization.py:391: FutureWarning: This implementation of AdamW is deprecated and will be removed in a future version. Use the PyTorch implementation torch.optim.AdamW instead, or set `no_deprecation_warning=True` to disable this warning\n",
      "  warnings.warn(\n"
     ]
    },
    {
     "data": {
      "application/vnd.jupyter.widget-view+json": {
       "model_id": "f35ebe4ba8854d1e951ba605ad0982bd",
       "version_major": 2,
       "version_minor": 0
      },
      "text/plain": [
       "  0%|          | 0/192 [00:00<?, ?it/s]"
      ]
     },
     "metadata": {},
     "output_type": "display_data"
    },
    {
     "data": {
      "application/vnd.jupyter.widget-view+json": {
       "model_id": "c87d3fd97d8b48b385698be128b1c3a6",
       "version_major": 2,
       "version_minor": 0
      },
      "text/plain": [
       "  0%|          | 0/6 [00:00<?, ?it/s]"
      ]
     },
     "metadata": {},
     "output_type": "display_data"
    },
    {
     "name": "stderr",
     "output_type": "stream",
     "text": [
      "c:\\Users\\conni\\anaconda3\\envs\\tf-gpu\\lib\\site-packages\\sklearn\\metrics\\_classification.py:1248: UndefinedMetricWarning: Precision and F-score are ill-defined and being set to 0.0 in labels with no predicted samples. Use `zero_division` parameter to control this behavior.\n",
      "  _warn_prf(average, modifier, msg_start, len(result))\n",
      "c:\\Users\\conni\\anaconda3\\envs\\tf-gpu\\lib\\site-packages\\sklearn\\metrics\\_classification.py:1248: UndefinedMetricWarning: Precision and F-score are ill-defined and being set to 0.0 in labels with no predicted samples. Use `zero_division` parameter to control this behavior.\n",
      "  _warn_prf(average, modifier, msg_start, len(result))\n",
      "c:\\Users\\conni\\anaconda3\\envs\\tf-gpu\\lib\\site-packages\\sklearn\\metrics\\_classification.py:1248: UndefinedMetricWarning: Precision and F-score are ill-defined and being set to 0.0 in labels with no predicted samples. Use `zero_division` parameter to control this behavior.\n",
      "  _warn_prf(average, modifier, msg_start, len(result))\n"
     ]
    },
    {
     "name": "stdout",
     "output_type": "stream",
     "text": [
      "report: \n",
      "               precision    recall  f1-score   support\n",
      "\n",
      "           0       0.00      0.00      0.00        15\n",
      "           1       0.00      0.00      0.00         6\n",
      "           2       0.26      1.00      0.42         9\n",
      "           3       0.00      0.00      0.00         4\n",
      "\n",
      "    accuracy                           0.26        34\n",
      "   macro avg       0.07      0.25      0.10        34\n",
      "weighted avg       0.07      0.26      0.11        34\n",
      "\n",
      "rep type:  <class 'str'>\n",
      "{'eval_loss': 1.361945629119873, 'eval_f1': 0.10465116279069768, 'eval_runtime': 0.2427, 'eval_samples_per_second': 140.067, 'eval_steps_per_second': 24.718, 'epoch': 1.0}\n"
     ]
    },
    {
     "data": {
      "application/vnd.jupyter.widget-view+json": {
       "model_id": "745e45a03ce747209323203b63ca0e7c",
       "version_major": 2,
       "version_minor": 0
      },
      "text/plain": [
       "  0%|          | 0/6 [00:00<?, ?it/s]"
      ]
     },
     "metadata": {},
     "output_type": "display_data"
    },
    {
     "name": "stderr",
     "output_type": "stream",
     "text": [
      "c:\\Users\\conni\\anaconda3\\envs\\tf-gpu\\lib\\site-packages\\sklearn\\metrics\\_classification.py:1248: UndefinedMetricWarning: Precision and F-score are ill-defined and being set to 0.0 in labels with no predicted samples. Use `zero_division` parameter to control this behavior.\n",
      "  _warn_prf(average, modifier, msg_start, len(result))\n",
      "c:\\Users\\conni\\anaconda3\\envs\\tf-gpu\\lib\\site-packages\\sklearn\\metrics\\_classification.py:1248: UndefinedMetricWarning: Precision and F-score are ill-defined and being set to 0.0 in labels with no predicted samples. Use `zero_division` parameter to control this behavior.\n",
      "  _warn_prf(average, modifier, msg_start, len(result))\n",
      "c:\\Users\\conni\\anaconda3\\envs\\tf-gpu\\lib\\site-packages\\sklearn\\metrics\\_classification.py:1248: UndefinedMetricWarning: Precision and F-score are ill-defined and being set to 0.0 in labels with no predicted samples. Use `zero_division` parameter to control this behavior.\n",
      "  _warn_prf(average, modifier, msg_start, len(result))\n"
     ]
    },
    {
     "name": "stdout",
     "output_type": "stream",
     "text": [
      "report: \n",
      "               precision    recall  f1-score   support\n",
      "\n",
      "           0       0.50      0.87      0.63        15\n",
      "           1       0.00      0.00      0.00         6\n",
      "           2       0.62      0.56      0.59         9\n",
      "           3       0.00      0.00      0.00         4\n",
      "\n",
      "    accuracy                           0.53        34\n",
      "   macro avg       0.28      0.36      0.31        34\n",
      "weighted avg       0.39      0.53      0.44        34\n",
      "\n",
      "rep type:  <class 'str'>\n",
      "{'eval_loss': 1.1791257858276367, 'eval_f1': 0.30559540889526543, 'eval_runtime': 0.2464, 'eval_samples_per_second': 137.984, 'eval_steps_per_second': 24.35, 'epoch': 2.0}\n"
     ]
    },
    {
     "data": {
      "application/vnd.jupyter.widget-view+json": {
       "model_id": "71d86b3999b948a48345864b52a52162",
       "version_major": 2,
       "version_minor": 0
      },
      "text/plain": [
       "  0%|          | 0/6 [00:00<?, ?it/s]"
      ]
     },
     "metadata": {},
     "output_type": "display_data"
    },
    {
     "name": "stderr",
     "output_type": "stream",
     "text": [
      "c:\\Users\\conni\\anaconda3\\envs\\tf-gpu\\lib\\site-packages\\sklearn\\metrics\\_classification.py:1248: UndefinedMetricWarning: Precision and F-score are ill-defined and being set to 0.0 in labels with no predicted samples. Use `zero_division` parameter to control this behavior.\n",
      "  _warn_prf(average, modifier, msg_start, len(result))\n",
      "c:\\Users\\conni\\anaconda3\\envs\\tf-gpu\\lib\\site-packages\\sklearn\\metrics\\_classification.py:1248: UndefinedMetricWarning: Precision and F-score are ill-defined and being set to 0.0 in labels with no predicted samples. Use `zero_division` parameter to control this behavior.\n",
      "  _warn_prf(average, modifier, msg_start, len(result))\n",
      "c:\\Users\\conni\\anaconda3\\envs\\tf-gpu\\lib\\site-packages\\sklearn\\metrics\\_classification.py:1248: UndefinedMetricWarning: Precision and F-score are ill-defined and being set to 0.0 in labels with no predicted samples. Use `zero_division` parameter to control this behavior.\n",
      "  _warn_prf(average, modifier, msg_start, len(result))\n"
     ]
    },
    {
     "name": "stdout",
     "output_type": "stream",
     "text": [
      "report: \n",
      "               precision    recall  f1-score   support\n",
      "\n",
      "           0       0.57      0.27      0.36        15\n",
      "           1       0.57      0.67      0.62         6\n",
      "           2       0.40      0.89      0.55         9\n",
      "           3       0.00      0.00      0.00         4\n",
      "\n",
      "    accuracy                           0.47        34\n",
      "   macro avg       0.39      0.46      0.38        34\n",
      "weighted avg       0.46      0.47      0.42        34\n",
      "\n",
      "rep type:  <class 'str'>\n",
      "{'eval_loss': 1.4302103519439697, 'eval_f1': 0.38268627923800336, 'eval_runtime': 0.246, 'eval_samples_per_second': 138.231, 'eval_steps_per_second': 24.394, 'epoch': 3.0}\n"
     ]
    },
    {
     "data": {
      "application/vnd.jupyter.widget-view+json": {
       "model_id": "904fb7e72e4a4cae9715887aee6230d2",
       "version_major": 2,
       "version_minor": 0
      },
      "text/plain": [
       "  0%|          | 0/6 [00:00<?, ?it/s]"
      ]
     },
     "metadata": {},
     "output_type": "display_data"
    },
    {
     "name": "stderr",
     "output_type": "stream",
     "text": [
      "c:\\Users\\conni\\anaconda3\\envs\\tf-gpu\\lib\\site-packages\\sklearn\\metrics\\_classification.py:1248: UndefinedMetricWarning: Precision and F-score are ill-defined and being set to 0.0 in labels with no predicted samples. Use `zero_division` parameter to control this behavior.\n",
      "  _warn_prf(average, modifier, msg_start, len(result))\n",
      "c:\\Users\\conni\\anaconda3\\envs\\tf-gpu\\lib\\site-packages\\sklearn\\metrics\\_classification.py:1248: UndefinedMetricWarning: Precision and F-score are ill-defined and being set to 0.0 in labels with no predicted samples. Use `zero_division` parameter to control this behavior.\n",
      "  _warn_prf(average, modifier, msg_start, len(result))\n",
      "c:\\Users\\conni\\anaconda3\\envs\\tf-gpu\\lib\\site-packages\\sklearn\\metrics\\_classification.py:1248: UndefinedMetricWarning: Precision and F-score are ill-defined and being set to 0.0 in labels with no predicted samples. Use `zero_division` parameter to control this behavior.\n",
      "  _warn_prf(average, modifier, msg_start, len(result))\n"
     ]
    },
    {
     "name": "stdout",
     "output_type": "stream",
     "text": [
      "report: \n",
      "               precision    recall  f1-score   support\n",
      "\n",
      "           0       0.56      0.67      0.61        15\n",
      "           1       0.33      0.17      0.22         6\n",
      "           2       0.46      0.67      0.55         9\n",
      "           3       0.00      0.00      0.00         4\n",
      "\n",
      "    accuracy                           0.50        34\n",
      "   macro avg       0.34      0.38      0.34        34\n",
      "weighted avg       0.43      0.50      0.45        34\n",
      "\n",
      "rep type:  <class 'str'>\n",
      "{'eval_loss': 1.457134485244751, 'eval_f1': 0.3434343434343434, 'eval_runtime': 0.2461, 'eval_samples_per_second': 138.181, 'eval_steps_per_second': 24.385, 'epoch': 4.0}\n"
     ]
    },
    {
     "data": {
      "application/vnd.jupyter.widget-view+json": {
       "model_id": "f930f8eb737647db8a02d32a3eec46a1",
       "version_major": 2,
       "version_minor": 0
      },
      "text/plain": [
       "  0%|          | 0/6 [00:00<?, ?it/s]"
      ]
     },
     "metadata": {},
     "output_type": "display_data"
    },
    {
     "name": "stderr",
     "output_type": "stream",
     "text": [
      "c:\\Users\\conni\\anaconda3\\envs\\tf-gpu\\lib\\site-packages\\sklearn\\metrics\\_classification.py:1248: UndefinedMetricWarning: Precision and F-score are ill-defined and being set to 0.0 in labels with no predicted samples. Use `zero_division` parameter to control this behavior.\n",
      "  _warn_prf(average, modifier, msg_start, len(result))\n",
      "c:\\Users\\conni\\anaconda3\\envs\\tf-gpu\\lib\\site-packages\\sklearn\\metrics\\_classification.py:1248: UndefinedMetricWarning: Precision and F-score are ill-defined and being set to 0.0 in labels with no predicted samples. Use `zero_division` parameter to control this behavior.\n",
      "  _warn_prf(average, modifier, msg_start, len(result))\n",
      "c:\\Users\\conni\\anaconda3\\envs\\tf-gpu\\lib\\site-packages\\sklearn\\metrics\\_classification.py:1248: UndefinedMetricWarning: Precision and F-score are ill-defined and being set to 0.0 in labels with no predicted samples. Use `zero_division` parameter to control this behavior.\n",
      "  _warn_prf(average, modifier, msg_start, len(result))\n"
     ]
    },
    {
     "name": "stdout",
     "output_type": "stream",
     "text": [
      "report: \n",
      "               precision    recall  f1-score   support\n",
      "\n",
      "           0       0.63      0.80      0.71        15\n",
      "           1       0.75      0.50      0.60         6\n",
      "           2       0.55      0.67      0.60         9\n",
      "           3       0.00      0.00      0.00         4\n",
      "\n",
      "    accuracy                           0.62        34\n",
      "   macro avg       0.48      0.49      0.48        34\n",
      "weighted avg       0.56      0.62      0.58        34\n",
      "\n",
      "rep type:  <class 'str'>\n",
      "{'eval_loss': 1.5320632457733154, 'eval_f1': 0.4764705882352941, 'eval_runtime': 0.2496, 'eval_samples_per_second': 136.239, 'eval_steps_per_second': 24.042, 'epoch': 5.0}\n"
     ]
    },
    {
     "data": {
      "application/vnd.jupyter.widget-view+json": {
       "model_id": "77a9c0a3d317406d9d3eb9f985bba48b",
       "version_major": 2,
       "version_minor": 0
      },
      "text/plain": [
       "  0%|          | 0/6 [00:00<?, ?it/s]"
      ]
     },
     "metadata": {},
     "output_type": "display_data"
    },
    {
     "name": "stderr",
     "output_type": "stream",
     "text": [
      "c:\\Users\\conni\\anaconda3\\envs\\tf-gpu\\lib\\site-packages\\sklearn\\metrics\\_classification.py:1248: UndefinedMetricWarning: Precision and F-score are ill-defined and being set to 0.0 in labels with no predicted samples. Use `zero_division` parameter to control this behavior.\n",
      "  _warn_prf(average, modifier, msg_start, len(result))\n",
      "c:\\Users\\conni\\anaconda3\\envs\\tf-gpu\\lib\\site-packages\\sklearn\\metrics\\_classification.py:1248: UndefinedMetricWarning: Precision and F-score are ill-defined and being set to 0.0 in labels with no predicted samples. Use `zero_division` parameter to control this behavior.\n",
      "  _warn_prf(average, modifier, msg_start, len(result))\n",
      "c:\\Users\\conni\\anaconda3\\envs\\tf-gpu\\lib\\site-packages\\sklearn\\metrics\\_classification.py:1248: UndefinedMetricWarning: Precision and F-score are ill-defined and being set to 0.0 in labels with no predicted samples. Use `zero_division` parameter to control this behavior.\n",
      "  _warn_prf(average, modifier, msg_start, len(result))\n"
     ]
    },
    {
     "name": "stdout",
     "output_type": "stream",
     "text": [
      "report: \n",
      "               precision    recall  f1-score   support\n",
      "\n",
      "           0       0.83      0.33      0.48        15\n",
      "           1       0.67      1.00      0.80         6\n",
      "           2       0.42      0.89      0.57         9\n",
      "           3       0.00      0.00      0.00         4\n",
      "\n",
      "    accuracy                           0.56        34\n",
      "   macro avg       0.48      0.56      0.46        34\n",
      "weighted avg       0.60      0.56      0.50        34\n",
      "\n",
      "rep type:  <class 'str'>\n",
      "{'eval_loss': 2.1215927600860596, 'eval_f1': 0.4619047619047619, 'eval_runtime': 0.2496, 'eval_samples_per_second': 136.215, 'eval_steps_per_second': 24.038, 'epoch': 6.0}\n"
     ]
    },
    {
     "data": {
      "application/vnd.jupyter.widget-view+json": {
       "model_id": "71efe1c96f104dbb8e24aa18a02769a6",
       "version_major": 2,
       "version_minor": 0
      },
      "text/plain": [
       "  0%|          | 0/6 [00:00<?, ?it/s]"
      ]
     },
     "metadata": {},
     "output_type": "display_data"
    },
    {
     "name": "stderr",
     "output_type": "stream",
     "text": [
      "c:\\Users\\conni\\anaconda3\\envs\\tf-gpu\\lib\\site-packages\\sklearn\\metrics\\_classification.py:1248: UndefinedMetricWarning: Precision and F-score are ill-defined and being set to 0.0 in labels with no predicted samples. Use `zero_division` parameter to control this behavior.\n",
      "  _warn_prf(average, modifier, msg_start, len(result))\n",
      "c:\\Users\\conni\\anaconda3\\envs\\tf-gpu\\lib\\site-packages\\sklearn\\metrics\\_classification.py:1248: UndefinedMetricWarning: Precision and F-score are ill-defined and being set to 0.0 in labels with no predicted samples. Use `zero_division` parameter to control this behavior.\n",
      "  _warn_prf(average, modifier, msg_start, len(result))\n",
      "c:\\Users\\conni\\anaconda3\\envs\\tf-gpu\\lib\\site-packages\\sklearn\\metrics\\_classification.py:1248: UndefinedMetricWarning: Precision and F-score are ill-defined and being set to 0.0 in labels with no predicted samples. Use `zero_division` parameter to control this behavior.\n",
      "  _warn_prf(average, modifier, msg_start, len(result))\n"
     ]
    },
    {
     "name": "stdout",
     "output_type": "stream",
     "text": [
      "report: \n",
      "               precision    recall  f1-score   support\n",
      "\n",
      "           0       0.67      0.53      0.59        15\n",
      "           1       0.57      0.67      0.62         6\n",
      "           2       0.47      0.78      0.58         9\n",
      "           3       0.00      0.00      0.00         4\n",
      "\n",
      "    accuracy                           0.56        34\n",
      "   macro avg       0.43      0.49      0.45        34\n",
      "weighted avg       0.52      0.56      0.52        34\n",
      "\n",
      "rep type:  <class 'str'>\n",
      "{'eval_loss': 1.5521236658096313, 'eval_f1': 0.44782763532763536, 'eval_runtime': 0.2464, 'eval_samples_per_second': 138.007, 'eval_steps_per_second': 24.354, 'epoch': 7.0}\n"
     ]
    },
    {
     "data": {
      "application/vnd.jupyter.widget-view+json": {
       "model_id": "34885bc7830c44f48555b66d44bc089d",
       "version_major": 2,
       "version_minor": 0
      },
      "text/plain": [
       "  0%|          | 0/6 [00:00<?, ?it/s]"
      ]
     },
     "metadata": {},
     "output_type": "display_data"
    },
    {
     "name": "stderr",
     "output_type": "stream",
     "text": [
      "c:\\Users\\conni\\anaconda3\\envs\\tf-gpu\\lib\\site-packages\\sklearn\\metrics\\_classification.py:1248: UndefinedMetricWarning: Precision and F-score are ill-defined and being set to 0.0 in labels with no predicted samples. Use `zero_division` parameter to control this behavior.\n",
      "  _warn_prf(average, modifier, msg_start, len(result))\n",
      "c:\\Users\\conni\\anaconda3\\envs\\tf-gpu\\lib\\site-packages\\sklearn\\metrics\\_classification.py:1248: UndefinedMetricWarning: Precision and F-score are ill-defined and being set to 0.0 in labels with no predicted samples. Use `zero_division` parameter to control this behavior.\n",
      "  _warn_prf(average, modifier, msg_start, len(result))\n",
      "c:\\Users\\conni\\anaconda3\\envs\\tf-gpu\\lib\\site-packages\\sklearn\\metrics\\_classification.py:1248: UndefinedMetricWarning: Precision and F-score are ill-defined and being set to 0.0 in labels with no predicted samples. Use `zero_division` parameter to control this behavior.\n",
      "  _warn_prf(average, modifier, msg_start, len(result))\n"
     ]
    },
    {
     "name": "stdout",
     "output_type": "stream",
     "text": [
      "report: \n",
      "               precision    recall  f1-score   support\n",
      "\n",
      "           0       0.69      0.60      0.64        15\n",
      "           1       0.57      0.67      0.62         6\n",
      "           2       0.50      0.78      0.61         9\n",
      "           3       0.00      0.00      0.00         4\n",
      "\n",
      "    accuracy                           0.59        34\n",
      "   macro avg       0.44      0.51      0.47        34\n",
      "weighted avg       0.54      0.59      0.55        34\n",
      "\n",
      "rep type:  <class 'str'>\n",
      "{'eval_loss': 1.5565199851989746, 'eval_f1': 0.4667343526039178, 'eval_runtime': 0.2634, 'eval_samples_per_second': 129.061, 'eval_steps_per_second': 22.775, 'epoch': 8.0}\n",
      "{'train_runtime': 62.9142, 'train_samples_per_second': 17.675, 'train_steps_per_second': 3.052, 'train_loss': 0.4454421599706014, 'epoch': 8.0}\n"
     ]
    },
    {
     "data": {
      "application/vnd.jupyter.widget-view+json": {
       "model_id": "4ba2cb1ba03c462db206973e51259b40",
       "version_major": 2,
       "version_minor": 0
      },
      "text/plain": [
       "  0%|          | 0/6 [00:00<?, ?it/s]"
      ]
     },
     "metadata": {},
     "output_type": "display_data"
    },
    {
     "name": "stderr",
     "output_type": "stream",
     "text": [
      "c:\\Users\\conni\\anaconda3\\envs\\tf-gpu\\lib\\site-packages\\sklearn\\metrics\\_classification.py:1248: UndefinedMetricWarning: Precision and F-score are ill-defined and being set to 0.0 in labels with no predicted samples. Use `zero_division` parameter to control this behavior.\n",
      "  _warn_prf(average, modifier, msg_start, len(result))\n",
      "c:\\Users\\conni\\anaconda3\\envs\\tf-gpu\\lib\\site-packages\\sklearn\\metrics\\_classification.py:1248: UndefinedMetricWarning: Precision and F-score are ill-defined and being set to 0.0 in labels with no predicted samples. Use `zero_division` parameter to control this behavior.\n",
      "  _warn_prf(average, modifier, msg_start, len(result))\n",
      "c:\\Users\\conni\\anaconda3\\envs\\tf-gpu\\lib\\site-packages\\sklearn\\metrics\\_classification.py:1248: UndefinedMetricWarning: Precision and F-score are ill-defined and being set to 0.0 in labels with no predicted samples. Use `zero_division` parameter to control this behavior.\n",
      "  _warn_prf(average, modifier, msg_start, len(result))\n"
     ]
    },
    {
     "name": "stdout",
     "output_type": "stream",
     "text": [
      "report: \n",
      "               precision    recall  f1-score   support\n",
      "\n",
      "           0       0.63      0.80      0.71        15\n",
      "           1       0.75      0.50      0.60         6\n",
      "           2       0.55      0.67      0.60         9\n",
      "           3       0.00      0.00      0.00         4\n",
      "\n",
      "    accuracy                           0.62        34\n",
      "   macro avg       0.48      0.49      0.48        34\n",
      "weighted avg       0.56      0.62      0.58        34\n",
      "\n",
      "rep type:  <class 'str'>\n",
      "F-1:  0.4764705882352941\n"
     ]
    }
   ],
   "source": [
    "output = open(\"original.txt\", \"a\")\n",
    "\n",
    "fold = 0\n",
    "kfold = KFold(n_splits=5, shuffle=True, random_state=1)\n",
    "for train_df_idx, eval_df_idx in kfold.split(df):\n",
    "    \n",
    "    print(\"FOLD: \", fold)\n",
    "    output.write(f\"FOLD: {fold}\\n\")\n",
    "    new_df = pd.DataFrame()\n",
    "    \n",
    "    train_df = get_sample_based_on_idx(df, train_df_idx)\n",
    "    print(\"LEN DF: \", len(train_df))\n",
    "    output.write(f\"LEN DF: {len(train_df)}\\n\")\n",
    "#     train_df['label'] = [int(item) for item in train_df[\"annotation: b (belief or attitude), n (not a belief and not an attitude)\"]]\n",
    "    print(\"done train df\")\n",
    "    output.write(\"done train df\\n\")\n",
    "    eval_df = get_sample_based_on_idx(df, eval_df_idx)\n",
    "#     eval_df[\"label\"] = [int(item) for item in eval_df['annotation: b (belief or attitude), n (not a belief and not an attitude)']]\n",
    "    print(\"done eval df\")\n",
    "    output.write(\"done eval df\\n\")\n",
    "    print(\"LEN EVAL: \", len(eval_df))\n",
    "    output.write(f\"LEN EVAL: {len(eval_df)}\\n\")\n",
    "#     print(eval_df.head())\n",
    "    ds = DatasetDict()\n",
    "    ds['train'] = Dataset.from_pandas(train_df)\n",
    "    ds['validation'] = Dataset.from_pandas(eval_df)\n",
    "    train_ds = ds['train'].map(\n",
    "        tokenize, batched=True,\n",
    "        # remove_columns=['index', 'sentence', 'trigger', 'annotation: b (belief or attitude), n (not a belief and not an attitude)', 'paragraph'],\n",
    "    )\n",
    "    eval_ds = ds['validation'].map(\n",
    "        tokenize,\n",
    "        batched=True,\n",
    "        # remove_columns=['index', 'sentence', 'trigger', 'annotation: b (belief or attitude), n (not a belief and not an attitude)', 'paragraph'],\n",
    "    )\n",
    "\n",
    "#     config = AutoConfig.from_pretrained(\n",
    "#         transformer_name,\n",
    "#         num_labels=2,\n",
    "#     )\n",
    "\n",
    "    model = AutoModelForSequenceClassification.from_pretrained(transformer_name, num_labels=4)\n",
    "    tokenizer = AutoTokenizer.from_pretrained(transformer_name)\n",
    "#     model = (\n",
    "#         BertForSequenceClassification\n",
    "#         .from_pretrained(transformer_name, config=config)\n",
    "#     )\n",
    "    trainer = Trainer(\n",
    "        model=model,\n",
    "        args=training_args,\n",
    "        compute_metrics=compute_metrics,\n",
    "        train_dataset=train_ds,\n",
    "        eval_dataset=eval_ds,\n",
    "        tokenizer=tokenizer,\n",
    "    )\n",
    "    trainer.train()\n",
    "    # after training, predict (will use best model?)\n",
    "    preds = trainer.predict(eval_ds)\n",
    "#     print(\"HERE: \" , preds)\n",
    "    final_preds = [np.argmax(x) for x in preds.predictions]\n",
    "    real_f1 = metrics.f1_score(final_preds, eval_df[\"label\"], average=\"macro\")\n",
    "    print(\"F-1: \", real_f1)\n",
    "    output.write(f\"F-1: {real_f1}\\n\")\n",
    "    model_name = f\"{transformer_name}-best-of-fold-{fold}-f1-{real_f1}\"\n",
    "    model_dir = os.path.join(models_dir, model_name)\n",
    "\n",
    "    trainer.save_model(model_dir)\n",
    "\n",
    "    for i, item in enumerate(final_preds):\n",
    "        if item != eval_ds[\"label\"][i]:\n",
    "            wrong_df = pd.DataFrame()\n",
    "            wrong_df[\"text\"] = [eval_df[\"text\"][i]]\n",
    "            wrong_df[\"real\"] = [eval_df[\"label\"][i]]\n",
    "            wrong_df[\"predicted\"] = [item]\n",
    "            new_df = pd.concat([new_df, wrong_df])\n",
    "\n",
    "    new_df.to_csv(f\"{models_dir}/wrong_predictions_{fold}.csv\")\n",
    "    fold += 1\n",
    "        "
   ]
  },
  {
   "cell_type": "code",
   "execution_count": 19,
   "metadata": {},
   "outputs": [
    {
     "data": {
      "application/vnd.jupyter.widget-view+json": {
       "model_id": "d2bd6785417e477a8b758d86b5ac5229",
       "version_major": 2,
       "version_minor": 0
      },
      "text/plain": [
       "Map:   0%|          | 0/146 [00:00<?, ? examples/s]"
      ]
     },
     "metadata": {},
     "output_type": "display_data"
    },
    {
     "data": {
      "application/vnd.jupyter.widget-view+json": {
       "model_id": "409905a98b264117806014e37cd1d394",
       "version_major": 2,
       "version_minor": 0
      },
      "text/plain": [
       "  0%|          | 0/25 [00:00<?, ?it/s]"
      ]
     },
     "metadata": {},
     "output_type": "display_data"
    },
    {
     "name": "stdout",
     "output_type": "stream",
     "text": [
      "report: \n",
      "               precision    recall  f1-score   support\n",
      "\n",
      "           0       0.53      0.80      0.63        49\n",
      "           1       0.67      0.38      0.49        26\n",
      "           2       0.65      0.63      0.64        59\n",
      "           3       0.00      0.00      0.00        12\n",
      "\n",
      "    accuracy                           0.59       146\n",
      "   macro avg       0.46      0.45      0.44       146\n",
      "weighted avg       0.56      0.59      0.56       146\n",
      "\n",
      "rep type:  <class 'str'>\n"
     ]
    },
    {
     "name": "stderr",
     "output_type": "stream",
     "text": [
      "c:\\Users\\conni\\anaconda3\\envs\\tf-gpu\\lib\\site-packages\\sklearn\\metrics\\_classification.py:1248: UndefinedMetricWarning: Precision and F-score are ill-defined and being set to 0.0 in labels with no predicted samples. Use `zero_division` parameter to control this behavior.\n",
      "  _warn_prf(average, modifier, msg_start, len(result))\n",
      "c:\\Users\\conni\\anaconda3\\envs\\tf-gpu\\lib\\site-packages\\sklearn\\metrics\\_classification.py:1248: UndefinedMetricWarning: Precision and F-score are ill-defined and being set to 0.0 in labels with no predicted samples. Use `zero_division` parameter to control this behavior.\n",
      "  _warn_prf(average, modifier, msg_start, len(result))\n",
      "c:\\Users\\conni\\anaconda3\\envs\\tf-gpu\\lib\\site-packages\\sklearn\\metrics\\_classification.py:1248: UndefinedMetricWarning: Precision and F-score are ill-defined and being set to 0.0 in labels with no predicted samples. Use `zero_division` parameter to control this behavior.\n",
      "  _warn_prf(average, modifier, msg_start, len(result))\n"
     ]
    },
    {
     "data": {
      "text/plain": [
       "PredictionOutput(predictions=array([[ 3.12748075e+00, -1.11327565e+00, -7.41954386e-01,\n",
       "        -1.59095049e+00],\n",
       "       [ 2.39527154e+00, -1.87988591e+00,  1.11360741e+00,\n",
       "        -1.95397151e+00],\n",
       "       [-2.22187090e+00, -1.84547091e+00,  4.52050304e+00,\n",
       "        -1.39935017e+00],\n",
       "       [ 3.85241342e+00, -1.50445819e+00, -1.24845469e+00,\n",
       "        -1.21730661e+00],\n",
       "       [ 2.42610884e+00, -2.10561609e+00,  9.97956753e-01,\n",
       "        -1.43785489e+00],\n",
       "       [ 7.10558712e-01,  2.01579595e+00, -2.03670073e+00,\n",
       "        -7.05665588e-01],\n",
       "       [ 2.23595381e+00,  1.01800799e+00, -2.00976968e+00,\n",
       "        -1.51437628e+00],\n",
       "       [-1.18690062e+00, -2.12582541e+00,  4.07473803e+00,\n",
       "        -1.74679625e+00],\n",
       "       [ 2.16095924e+00, -1.74904287e+00,  1.31997478e+00,\n",
       "        -1.46853054e+00],\n",
       "       [-2.51119757e+00, -1.46990967e+00,  4.16050053e+00,\n",
       "        -6.10300362e-01],\n",
       "       [-7.23505914e-01, -2.18629956e+00,  2.73375130e+00,\n",
       "        -1.09689020e-01],\n",
       "       [ 3.44948816e+00,  2.81788707e-01, -2.86906886e+00,\n",
       "        -4.84448165e-01],\n",
       "       [ 2.57433629e+00,  3.34845185e-01, -2.06178737e+00,\n",
       "        -1.09219110e+00],\n",
       "       [-1.50174797e-01,  2.72639537e+00, -1.69160271e+00,\n",
       "        -1.39050519e+00],\n",
       "       [ 3.56663918e+00, -1.80662286e+00, -1.00544441e+00,\n",
       "        -4.88467097e-01],\n",
       "       [ 2.57720876e+00, -1.47074163e+00,  4.12528783e-01,\n",
       "        -1.95014811e+00],\n",
       "       [ 4.09421253e+00, -1.27670515e+00, -1.72052777e+00,\n",
       "        -9.47839677e-01],\n",
       "       [-1.91896939e+00, -1.71141779e+00,  4.50239897e+00,\n",
       "        -1.82503319e+00],\n",
       "       [ 3.81323171e+00, -1.51955020e+00, -8.28663707e-01,\n",
       "        -1.06862259e+00],\n",
       "       [-3.98439199e-01,  1.28881538e+00,  1.57466740e-03,\n",
       "        -1.83580542e+00],\n",
       "       [ 2.59612632e+00, -1.66270363e+00,  2.61175931e-01,\n",
       "        -1.49391305e+00],\n",
       "       [ 6.11910403e-01, -6.82105899e-01,  1.66896379e+00,\n",
       "        -1.77043784e+00],\n",
       "       [ 2.56561804e+00,  1.51166201e-01, -1.54943037e+00,\n",
       "        -1.50062668e+00],\n",
       "       [ 3.86157608e+00, -1.27903485e+00, -1.02054143e+00,\n",
       "        -1.53114283e+00],\n",
       "       [-3.70666832e-01,  3.68657851e+00, -2.34037709e+00,\n",
       "        -6.56696916e-01],\n",
       "       [ 5.30446351e-01, -1.32898808e+00,  2.59725904e+00,\n",
       "        -2.42079520e+00],\n",
       "       [-4.12152290e-01,  3.60489154e+00, -2.41066384e+00,\n",
       "        -1.04624736e+00],\n",
       "       [ 1.40591407e+00,  9.28545356e-01, -1.97907877e+00,\n",
       "        -1.04076016e+00],\n",
       "       [ 2.00567079e+00, -1.75484943e+00,  8.48702729e-01,\n",
       "        -1.69578505e+00],\n",
       "       [ 2.63885498e+00, -2.07595682e+00,  9.23172772e-01,\n",
       "        -1.81486094e+00],\n",
       "       [ 2.79191780e+00, -1.34238088e+00, -4.28600490e-01,\n",
       "        -8.34527194e-01],\n",
       "       [ 9.24788415e-01, -1.52641788e-01, -7.89172173e-01,\n",
       "         8.10427308e-01],\n",
       "       [-1.68136859e+00, -1.34099734e+00,  3.56345320e+00,\n",
       "        -3.13073069e-01],\n",
       "       [ 1.89733994e+00, -1.99416292e+00, -3.18092912e-01,\n",
       "         1.27420700e+00],\n",
       "       [-1.07666031e-01, -2.27005243e+00,  3.58011198e+00,\n",
       "        -2.21818495e+00],\n",
       "       [ 2.84443092e+00, -1.65687633e+00,  6.07995450e-01,\n",
       "        -2.01747751e+00],\n",
       "       [-2.12779236e+00,  4.82812166e-01,  2.02497363e+00,\n",
       "        -7.88854599e-01],\n",
       "       [-2.16174528e-01,  2.05095005e+00, -1.47837222e+00,\n",
       "        -7.81577229e-02],\n",
       "       [ 3.21600342e+00, -1.41784561e+00, -4.29847449e-01,\n",
       "        -1.44834316e+00],\n",
       "       [-1.01661074e+00,  2.73915315e+00, -1.20051062e+00,\n",
       "        -7.79132962e-01],\n",
       "       [ 3.21822000e+00, -4.38040614e-01, -1.99690259e+00,\n",
       "        -1.33357787e+00],\n",
       "       [ 2.13511777e+00,  6.66374981e-01, -1.59031403e+00,\n",
       "        -1.64466763e+00],\n",
       "       [-1.02283525e+00, -2.05930829e+00,  3.81279325e+00,\n",
       "        -1.41520262e+00],\n",
       "       [ 3.96650100e+00, -1.24363923e+00, -1.48069191e+00,\n",
       "        -1.47494483e+00],\n",
       "       [-1.49001670e+00, -1.71990705e+00,  4.36918211e+00,\n",
       "        -2.11781716e+00],\n",
       "       [-1.91965449e+00, -1.83927572e+00,  4.41933823e+00,\n",
       "        -1.07201743e+00],\n",
       "       [ 3.67254901e+00, -9.48767126e-01, -1.93143189e+00,\n",
       "        -1.17330384e+00],\n",
       "       [-1.74223542e+00, -1.90408051e+00,  4.06214905e+00,\n",
       "        -3.29832077e-01],\n",
       "       [ 2.21788034e-01, -2.08725977e+00,  2.77967405e+00,\n",
       "        -1.84140813e+00],\n",
       "       [-3.92575443e-01, -1.35818291e+00,  3.06034923e+00,\n",
       "        -1.98422861e+00],\n",
       "       [-1.15954959e+00, -2.01728654e+00,  3.15705872e+00,\n",
       "        -2.16388881e-01],\n",
       "       [-2.32662702e+00, -1.76446998e+00,  4.24022198e+00,\n",
       "        -1.05731690e+00],\n",
       "       [ 1.80300534e+00,  4.46480066e-01, -1.03293717e+00,\n",
       "        -1.43082666e+00],\n",
       "       [ 2.09624195e+00,  4.36547607e-01, -1.67460084e+00,\n",
       "        -1.19859707e+00],\n",
       "       [ 1.71531868e+00,  1.44719586e-01, -1.54735887e+00,\n",
       "        -7.96768486e-01],\n",
       "       [ 8.63908410e-01,  1.56959212e+00, -1.93112993e+00,\n",
       "        -7.31282353e-01],\n",
       "       [ 4.00194216e+00, -1.28679895e+00, -1.18521559e+00,\n",
       "        -1.35643518e+00],\n",
       "       [ 1.88225007e+00, -1.78200853e+00,  7.68129826e-01,\n",
       "        -1.20252311e+00],\n",
       "       [ 9.67355847e-01, -1.39762414e+00,  1.96511328e+00,\n",
       "        -2.08367920e+00],\n",
       "       [-1.47227788e+00, -7.17215478e-01,  2.67396379e+00,\n",
       "        -1.33267558e+00],\n",
       "       [ 3.85251474e+00, -1.49353647e+00, -1.12751019e+00,\n",
       "        -8.80670369e-01],\n",
       "       [ 1.23480737e+00, -1.60892868e+00,  1.98189366e+00,\n",
       "        -2.00228620e+00],\n",
       "       [ 3.87681818e+00, -1.73931742e+00, -8.73638391e-01,\n",
       "        -1.25408280e+00],\n",
       "       [ 3.25836015e+00, -1.70196271e+00, -2.24541556e-02,\n",
       "        -1.35968232e+00],\n",
       "       [-9.17337179e-01, -2.30291963e+00,  3.59524894e+00,\n",
       "        -1.02090263e+00],\n",
       "       [-1.66169059e+00, -1.98289704e+00,  4.10988188e+00,\n",
       "        -1.00310433e+00],\n",
       "       [-2.43953013e+00, -1.57400846e+00,  4.52692127e+00,\n",
       "        -1.24705458e+00],\n",
       "       [ 4.62363034e-01,  2.65472054e+00, -2.13007092e+00,\n",
       "        -1.71176493e+00],\n",
       "       [-6.11486137e-01,  3.72131371e+00, -2.28225088e+00,\n",
       "        -8.29741299e-01],\n",
       "       [-8.13375413e-01, -1.85748923e+00,  3.77567363e+00,\n",
       "        -1.64716363e+00],\n",
       "       [-1.63450682e+00, -1.74297476e+00,  4.44879055e+00,\n",
       "        -1.85121477e+00],\n",
       "       [-1.57415307e+00, -9.53492880e-01,  3.05078864e+00,\n",
       "        -1.46221960e+00],\n",
       "       [ 1.22054100e+00, -1.13630259e+00,  1.02530968e+00,\n",
       "        -1.82931209e+00],\n",
       "       [ 3.28048050e-01,  9.83000219e-01,  6.20605759e-02,\n",
       "        -1.91859245e+00],\n",
       "       [ 2.94053584e-01, -1.97974706e+00,  2.71361351e+00,\n",
       "        -2.09569860e+00],\n",
       "       [ 8.55566263e-01, -2.18643999e+00,  1.38017178e+00,\n",
       "         2.41429120e-01],\n",
       "       [-2.01266813e+00, -1.57010698e+00,  4.11446095e+00,\n",
       "        -5.93649030e-01],\n",
       "       [ 6.81510568e-01, -1.53897011e+00,  1.21949756e+00,\n",
       "        -2.33817890e-01],\n",
       "       [ 1.12624860e+00,  1.36313331e+00, -1.97199762e+00,\n",
       "        -1.69978261e+00],\n",
       "       [ 2.40192699e+00, -1.74913263e+00,  8.60093713e-01,\n",
       "        -1.54719269e+00],\n",
       "       [ 3.51456571e+00, -1.63295853e+00, -6.14483297e-01,\n",
       "        -1.33277392e+00],\n",
       "       [-1.67005849e+00, -1.77022743e+00,  4.25420952e+00,\n",
       "        -1.71525598e+00],\n",
       "       [-1.81941342e+00, -1.70322764e+00,  4.34187603e+00,\n",
       "        -1.69886398e+00],\n",
       "       [ 1.00432646e+00, -1.49184108e+00,  9.32629168e-01,\n",
       "         1.21960245e-01],\n",
       "       [ 3.20219374e+00, -1.91850734e+00,  2.18136802e-01,\n",
       "        -1.44032943e+00],\n",
       "       [ 3.53334022e+00, -1.12960958e+00, -6.16190374e-01,\n",
       "        -1.83135593e+00],\n",
       "       [ 8.50356817e-01, -1.78190827e+00,  2.71138668e+00,\n",
       "        -2.34202099e+00],\n",
       "       [ 3.96943307e+00, -1.32874489e+00, -1.32468867e+00,\n",
       "        -1.34559226e+00],\n",
       "       [ 3.71774578e+00, -1.30174088e+00, -7.93116748e-01,\n",
       "        -1.65040898e+00],\n",
       "       [ 3.56631041e+00, -1.41454387e+00, -8.00760448e-01,\n",
       "        -1.42735934e+00],\n",
       "       [-2.76720428e+00, -1.29646134e+00,  4.42952967e+00,\n",
       "        -9.35567737e-01],\n",
       "       [ 3.01565933e+00, -6.36808634e-01, -1.21364295e+00,\n",
       "        -1.69797754e+00],\n",
       "       [ 3.66346002e+00, -4.69448030e-01, -1.73884773e+00,\n",
       "        -1.71974552e+00],\n",
       "       [-1.77838326e+00, -1.51289582e+00,  3.13862610e+00,\n",
       "         2.46511042e-01],\n",
       "       [ 3.64084172e+00, -1.30308521e+00, -1.17431891e+00,\n",
       "        -1.39299321e+00],\n",
       "       [ 3.94249010e+00, -1.01440060e+00, -1.93767798e+00,\n",
       "        -1.18107414e+00],\n",
       "       [-1.08555686e+00, -2.08653474e+00,  3.97666454e+00,\n",
       "        -1.69277334e+00],\n",
       "       [ 3.56219387e+00, -5.21380603e-01, -2.07231522e+00,\n",
       "        -1.48443270e+00],\n",
       "       [ 3.21692514e+00, -1.99172032e+00, -1.08272886e+00,\n",
       "        -1.88134238e-01],\n",
       "       [-2.01992226e+00, -1.85680532e+00,  4.60758781e+00,\n",
       "        -1.66862404e+00],\n",
       "       [-1.18079329e+00, -2.28843951e+00,  3.62061501e+00,\n",
       "        -1.08846676e+00],\n",
       "       [-2.12803602e+00,  3.27817440e-01,  2.55950165e+00,\n",
       "        -7.41269529e-01],\n",
       "       [ 3.55809450e+00, -9.95323360e-01, -8.23526740e-01,\n",
       "        -1.79123652e+00],\n",
       "       [-1.16039479e+00, -1.95569241e+00,  4.08475828e+00,\n",
       "        -1.97258508e+00],\n",
       "       [ 2.11474746e-02, -2.49101758e+00,  3.55481219e+00,\n",
       "        -1.95737529e+00],\n",
       "       [ 1.15764767e-01,  2.84101367e+00, -2.17781234e+00,\n",
       "        -1.35415840e+00],\n",
       "       [-1.42904091e+00, -2.20234537e+00,  4.10123825e+00,\n",
       "        -1.06966341e+00],\n",
       "       [ 2.62615705e+00,  7.17468262e-01, -2.25741601e+00,\n",
       "        -1.65670562e+00],\n",
       "       [ 3.80587029e+00, -1.04692054e+00, -1.68422973e+00,\n",
       "        -1.29821777e+00],\n",
       "       [ 3.42955160e+00, -8.60875785e-01, -1.79338634e+00,\n",
       "        -1.28917384e+00],\n",
       "       [-3.89000982e-01, -1.76201832e+00,  3.10043001e+00,\n",
       "        -2.10820436e+00],\n",
       "       [ 3.91783452e+00, -1.49523747e+00, -1.09056795e+00,\n",
       "        -1.06748962e+00],\n",
       "       [ 3.55997252e+00, -1.61426961e+00, -9.22513068e-01,\n",
       "        -1.15867162e+00],\n",
       "       [ 3.48050833e+00, -1.59139574e+00, -2.78236240e-01,\n",
       "        -1.58396590e+00],\n",
       "       [ 3.83948302e+00, -1.19444549e+00, -1.18294656e+00,\n",
       "        -1.63356733e+00],\n",
       "       [ 3.05118513e+00, -1.50496459e+00, -4.02581841e-01,\n",
       "        -1.31133425e+00],\n",
       "       [ 3.42249966e+00, -1.58921218e+00, -3.80660385e-01,\n",
       "        -1.60774493e+00],\n",
       "       [ 4.08223343e+00, -1.20317280e+00, -1.58090580e+00,\n",
       "        -1.46566331e+00],\n",
       "       [ 3.50406742e+00, -4.46998507e-01, -2.51464248e+00,\n",
       "        -9.70382273e-01],\n",
       "       [ 3.26358604e+00, -1.46649289e+00, -2.05425248e-01,\n",
       "        -1.82262444e+00],\n",
       "       [ 3.20350051e+00, -1.53792703e+00, -2.45667949e-01,\n",
       "        -1.70304167e+00],\n",
       "       [-1.33365262e+00, -2.05401301e+00,  3.54073429e+00,\n",
       "        -6.35756135e-01],\n",
       "       [ 4.17254642e-02, -2.14232802e+00,  3.29156661e+00,\n",
       "        -1.94798517e+00],\n",
       "       [-1.17702210e+00, -1.74851322e+00,  4.17154789e+00,\n",
       "        -2.06397462e+00],\n",
       "       [ 3.14567590e+00, -1.72080755e+00,  4.21299227e-02,\n",
       "        -1.77993190e+00],\n",
       "       [-9.64915752e-01, -1.85779941e+00,  3.59068394e+00,\n",
       "        -1.52457654e+00],\n",
       "       [ 3.57190824e+00, -5.19978464e-01, -1.86963522e+00,\n",
       "        -1.61711621e+00],\n",
       "       [-1.84408736e+00, -1.87148237e+00,  4.54127789e+00,\n",
       "        -1.50557375e+00],\n",
       "       [-1.55049157e+00,  2.30759358e+00, -5.96021824e-02,\n",
       "        -1.04595125e+00],\n",
       "       [-1.47327232e+00, -1.73842645e+00,  4.09363127e+00,\n",
       "        -1.77317321e+00],\n",
       "       [-1.53181684e+00, -1.84772933e+00,  4.30027199e+00,\n",
       "        -1.86308885e+00],\n",
       "       [-5.90218544e-01, -2.37013316e+00,  3.48946142e+00,\n",
       "        -1.23473120e+00],\n",
       "       [ 4.04793072e+00, -1.25191915e+00, -1.79331779e+00,\n",
       "        -1.13652718e+00],\n",
       "       [ 4.02092266e+00, -1.25820017e+00, -1.35859394e+00,\n",
       "        -1.39298475e+00],\n",
       "       [ 3.69069958e+00, -5.79203188e-01, -1.86094511e+00,\n",
       "        -1.66084552e+00],\n",
       "       [ 3.16155696e+00, -1.50454068e+00, -6.86570048e-01,\n",
       "        -9.07930076e-01],\n",
       "       [-8.05676341e-01, -2.00692749e+00,  3.59281254e+00,\n",
       "        -1.57057798e+00],\n",
       "       [ 2.00567460e+00, -1.75484729e+00,  8.48698318e-01,\n",
       "        -1.69578552e+00],\n",
       "       [ 4.22116375e+00, -1.27351403e+00, -1.71906841e+00,\n",
       "        -1.17615998e+00],\n",
       "       [-6.46554649e-01, -1.79170752e+00,  3.76075768e+00,\n",
       "        -2.18851495e+00],\n",
       "       [-1.22787690e+00,  3.17366147e+00, -1.24897444e+00,\n",
       "        -7.82843173e-01],\n",
       "       [-3.92685413e-01, -1.89291918e+00,  3.13520026e+00,\n",
       "        -9.34076309e-01],\n",
       "       [-1.12855470e+00, -1.80551434e+00,  3.68613791e+00,\n",
       "        -1.55070043e+00],\n",
       "       [ 3.47436643e+00, -1.48713005e+00, -3.53917867e-01,\n",
       "        -1.80086017e+00],\n",
       "       [ 3.79077864e+00, -9.50692475e-01, -1.48671436e+00,\n",
       "        -1.50971770e+00],\n",
       "       [-1.88912630e+00, -1.81813765e+00,  4.55807018e+00,\n",
       "        -1.62192893e+00]], dtype=float32), label_ids=array([0, 2, 2, 0, 0, 1, 1, 2, 2, 2, 2, 1, 0, 1, 2, 0, 0, 2, 0, 2, 2, 2,\n",
       "       2, 0, 1, 2, 1, 0, 2, 0, 0, 3, 3, 0, 2, 2, 1, 1, 0, 1, 1, 2, 0, 2,\n",
       "       2, 2, 1, 2, 0, 3, 2, 2, 1, 0, 1, 1, 0, 0, 0, 3, 0, 0, 0, 2, 2, 2,\n",
       "       2, 1, 1, 1, 0, 2, 0, 3, 2, 2, 3, 0, 0, 2, 0, 2, 2, 2, 2, 1, 1, 0,\n",
       "       0, 2, 3, 1, 0, 2, 0, 0, 2, 1, 3, 2, 2, 1, 2, 3, 2, 0, 2, 1, 1, 0,\n",
       "       2, 0, 0, 2, 0, 0, 0, 0, 0, 0, 2, 1, 2, 2, 2, 2, 0, 2, 3, 2, 0, 2,\n",
       "       2, 2, 0, 3, 3, 2, 0, 2, 1, 2, 0, 0, 0, 2], dtype=int64), metrics={'test_loss': 1.4735130071640015, 'test_f1': 0.4399705634987384, 'test_runtime': 1.0654, 'test_samples_per_second': 137.039, 'test_steps_per_second': 23.466})"
      ]
     },
     "execution_count": 19,
     "metadata": {},
     "output_type": "execute_result"
    }
   ],
   "source": [
    "holdout_df = df = pd.read_csv(\"data/belief_benchmark_holdout.csv\")\n",
    "holdout_ds = Dataset.from_pandas(holdout_df)\n",
    "holdout_ds = holdout_ds.map(tokenize, batched=True)\n",
    "\n",
    "trainer.predict(holdout_ds)"
   ]
  },
  {
   "cell_type": "code",
   "execution_count": 20,
   "metadata": {},
   "outputs": [],
   "source": [
    "import torch\n",
    "torch.cuda.empty_cache()"
   ]
  },
  {
   "cell_type": "code",
   "execution_count": 21,
   "metadata": {},
   "outputs": [],
   "source": [
    "torch.cuda.memory_summary(device=None, abbreviated=False)\n",
    "output.write(\"{torch.cuda.memory_summary(device=None, abbreviated=False)}\")\n",
    "\n",
    "output.close()"
   ]
  }
 ],
 "metadata": {
  "kernelspec": {
   "display_name": "base",
   "language": "python",
   "name": "python3"
  },
  "language_info": {
   "codemirror_mode": {
    "name": "ipython",
    "version": 3
   },
   "file_extension": ".py",
   "mimetype": "text/x-python",
   "name": "python",
   "nbconvert_exporter": "python",
   "pygments_lexer": "ipython3",
   "version": "3.8.12"
  }
 },
 "nbformat": 4,
 "nbformat_minor": 4
}
