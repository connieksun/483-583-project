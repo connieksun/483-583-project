{
 "cells": [
  {
   "cell_type": "code",
   "execution_count": null,
   "metadata": {},
   "outputs": [],
   "source": [
    "import pandas as pd\n",
    "import numpy as np\n",
    "import pickle\n",
    "from sklearn import metrics\n",
    "import matplotlib.pyplot as plt\n",
    "from sklearn.metrics import classification_report"
   ]
  },
  {
   "cell_type": "code",
   "execution_count": null,
   "metadata": {},
   "outputs": [],
   "source": [
    "# gather data\n",
    "y_true_loaded = pickle.load(open(\"data/y_true\", \"rb\"))\n",
    "# y_true_loaded has the actual values from the annotations (in pandas dataframe)\n",
    "y_pred_loaded = pickle.load(open(\"data/y_pred\", \"rb\"))\n",
    "# y_pred_loaded has the predicted values from the model\n",
    "labelsFile = open(\"data/classes.txt\", \"r\")\n",
    "labels = labelsFile.read().split(\"\\n\")\n",
    "labelsFile.close()"
   ]
  },
  {
   "cell_type": "code",
   "execution_count": null,
   "metadata": {},
   "outputs": [],
   "source": [
    "# confusion matrix generation\n",
    "print(\"Standard Confusion Matrix:\")\n",
    "confusion_matrix = metrics.confusion_matrix(y_true_loaded, y_pred_loaded)\n",
    "cm_display = metrics.ConfusionMatrixDisplay(confusion_matrix = confusion_matrix, display_labels = labels)\n",
    "cm_display.plot()\n",
    "plt.show()\n",
    "print()\n",
    "\n",
    "# normalized confusion matrix generations\n",
    "print(\"Confusion Matrix Normalized by Rows and Columns:\")\n",
    "confusion_matrix = metrics.confusion_matrix(y_true_loaded, y_pred_loaded, normalize = 'all')\n",
    "cm_display = metrics.ConfusionMatrixDisplay(confusion_matrix = confusion_matrix, display_labels = labels)\n",
    "cm_display.plot()\n",
    "plt.show()\n",
    "print()\n",
    "print(\"Confusion Matrix Normalized by Rows (True):\")\n",
    "confusion_matrix = metrics.confusion_matrix(y_true_loaded, y_pred_loaded, normalize = 'true')\n",
    "cm_display = metrics.ConfusionMatrixDisplay(confusion_matrix = confusion_matrix, display_labels = labels)\n",
    "cm_display.plot()\n",
    "plt.show()\n",
    "print()\n",
    "print(\"Confusion Matrix Normalized by Columns (Predicted):\")\n",
    "confusion_matrix = metrics.confusion_matrix(y_true_loaded, y_pred_loaded, normalize = 'pred')\n",
    "cm_display = metrics.ConfusionMatrixDisplay(confusion_matrix = confusion_matrix, display_labels = labels)\n",
    "cm_display.plot()\n",
    "plt.show()\n",
    "print()"
   ]
  },
  {
   "cell_type": "code",
   "execution_count": null,
   "metadata": {},
   "outputs": [],
   "source": [
    "# statistics calculations\n",
    "print(classification_report(y_true_loaded, y_pred_loaded, target_names=labels))"
   ]
  },
  {
   "cell_type": "code",
   "execution_count": null,
   "metadata": {},
   "outputs": [],
   "source": [
    "# cross-entropy loss calcuations\n"
   ]
  }
 ],
 "metadata": {
  "kernelspec": {
   "display_name": "tf-gpu",
   "language": "python",
   "name": "python3"
  },
  "language_info": {
   "codemirror_mode": {
    "name": "ipython",
    "version": 3
   },
   "file_extension": ".py",
   "mimetype": "text/x-python",
   "name": "python",
   "nbconvert_exporter": "python",
   "pygments_lexer": "ipython3",
   "version": "3.9.13"
  },
  "orig_nbformat": 4
 },
 "nbformat": 4,
 "nbformat_minor": 2
}
